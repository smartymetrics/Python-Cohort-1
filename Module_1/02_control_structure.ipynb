{
 "cells": [
  {
   "cell_type": "markdown",
   "id": "4c3e18a1",
   "metadata": {},
   "source": [
    "# Python Control Structure : loop and conditional\n",
    "Control structures help you control the flow of your program. They allow your code to make decisions or repeat actions."
   ]
  },
  {
   "cell_type": "markdown",
   "id": "98f2ed08",
   "metadata": {},
   "source": [
    "## Conditional Statement"
   ]
  },
  {
   "cell_type": "markdown",
   "id": "d3ab8232",
   "metadata": {},
   "source": [
    "### 1. If Statement"
   ]
  },
  {
   "cell_type": "code",
   "execution_count": 2,
   "id": "9b56ab38",
   "metadata": {},
   "outputs": [
    {
     "name": "stdout",
     "output_type": "stream",
     "text": [
      "x is greater than 5\n",
      "x is less than 20\n"
     ]
    }
   ],
   "source": [
    "x = 10\n",
    "type(x)\n",
    "\n",
    "if x > 5:\n",
    "    print('x is greater than 5');\n",
    "if x < 20:\n",
    "    print(\"x is less than 20\")"
   ]
  },
  {
   "cell_type": "markdown",
   "id": "a4598d35",
   "metadata": {},
   "source": [
    "### 2. if... else statement"
   ]
  },
  {
   "cell_type": "code",
   "execution_count": null,
   "id": "9e52fd07",
   "metadata": {},
   "outputs": [
    {
     "name": "stdout",
     "output_type": "stream",
     "text": [
      "x is 5 or less\n"
     ]
    }
   ],
   "source": [
    "x = 3\n",
    "if x > 5:\n",
    "    print('x greater than 5')\n",
    "else:\n",
    "    print('x is 5 or less')"
   ]
  },
  {
   "cell_type": "markdown",
   "id": "1ea5f6b6",
   "metadata": {},
   "source": [
    "### 3. if... elif... else"
   ]
  },
  {
   "cell_type": "code",
   "execution_count": 4,
   "id": "579ce82d",
   "metadata": {},
   "outputs": [
    {
     "name": "stdout",
     "output_type": "stream",
     "text": [
      "x is greater than 5\n"
     ]
    }
   ],
   "source": [
    "x = 7\n",
    "\n",
    "if x < 5:\n",
    "    print('x is less than 5')\n",
    "elif x == 5:\n",
    "    print('x is 5')\n",
    "else: \n",
    "    print('x is greater than 5')\n",
    "    "
   ]
  },
  {
   "cell_type": "code",
   "execution_count": 6,
   "id": "bc1b6454",
   "metadata": {},
   "outputs": [
    {
     "name": "stdout",
     "output_type": "stream",
     "text": [
      "High balance wallet\n"
     ]
    }
   ],
   "source": [
    "wallet = 1500\n",
    "\n",
    "if wallet > 1000:\n",
    "    print('High balance wallet')\n",
    "else:\n",
    "    print('Low balance wallet')"
   ]
  },
  {
   "cell_type": "markdown",
   "id": "fa8ca4d9",
   "metadata": {},
   "source": [
    "## Logical operators\n",
    "What they do: they combine or invert conditions"
   ]
  },
  {
   "cell_type": "markdown",
   "id": "30577681",
   "metadata": {},
   "source": [
    "### 1. and operator\n",
    "Returns true only if both conditions are true"
   ]
  },
  {
   "cell_type": "code",
   "execution_count": 7,
   "id": "df627fb8",
   "metadata": {},
   "outputs": [
    {
     "name": "stdout",
     "output_type": "stream",
     "text": [
      "High balance and verified wallet\n"
     ]
    }
   ],
   "source": [
    "balance = 1500\n",
    "verified = True\n",
    "\n",
    "if balance > 1000 and verified:\n",
    "    print('High balance and verified wallet')"
   ]
  },
  {
   "cell_type": "markdown",
   "id": "9427ecde",
   "metadata": {},
   "source": [
    "### 2. or operetor\n",
    "Returns true if at least one condition is true"
   ]
  },
  {
   "cell_type": "code",
   "execution_count": 8,
   "id": "068d90f9",
   "metadata": {},
   "outputs": [
    {
     "name": "stdout",
     "output_type": "stream",
     "text": [
      "Passes at least one check\n"
     ]
    }
   ],
   "source": [
    "balance = 600\n",
    "verified = False\n",
    "\n",
    "if balance > 100 or verified:\n",
    "    print('Passes at least one check')\n",
    "else: \n",
    "    print('Fail both conditons')"
   ]
  },
  {
   "cell_type": "markdown",
   "id": "c6d9ccc8",
   "metadata": {},
   "source": [
    "### 3. not operator\n",
    "it reverses the condition"
   ]
  },
  {
   "cell_type": "code",
   "execution_count": 9,
   "id": "6121cfaf",
   "metadata": {},
   "outputs": [
    {
     "name": "stdout",
     "output_type": "stream",
     "text": [
      "wallet is clean\n"
     ]
    }
   ],
   "source": [
    "is_blacklisted = False\n",
    "\n",
    "if not is_blacklisted:\n",
    "    print('wallet is clean')"
   ]
  },
  {
   "cell_type": "code",
   "execution_count": 13,
   "id": "940429c6",
   "metadata": {},
   "outputs": [
    {
     "name": "stdout",
     "output_type": "stream",
     "text": [
      "Greater than zero but less than 200\n"
     ]
    }
   ],
   "source": [
    "y = 100\n",
    "\n",
    "if y > 0 and y < 200:\n",
    "    print('Greater than zero but less than 200');\n",
    "elif y > 0 or y < 200:\n",
    "    print('y is between 0 and 200')\n",
    "else:\n",
    "    print('y is out of range')\n",
    "\n"
   ]
  },
  {
   "cell_type": "code",
   "execution_count": 17,
   "id": "bdc29ef2",
   "metadata": {},
   "outputs": [
    {
     "name": "stdout",
     "output_type": "stream",
     "text": [
      "access granted but wallet not verified\n"
     ]
    }
   ],
   "source": [
    "age = 19\n",
    "permission = True\n",
    "verified = False\n",
    "\n",
    "if age > 18 and permission:\n",
    "    if not verified:\n",
    "        print('access granted but wallet not verified')\n",
    "    else:\n",
    "        print('access granted')\n",
    "else:\n",
    "    print('access denied')"
   ]
  }
 ],
 "metadata": {
  "kernelspec": {
   "display_name": "pythonz",
   "language": "python",
   "name": "python3"
  },
  "language_info": {
   "codemirror_mode": {
    "name": "ipython",
    "version": 3
   },
   "file_extension": ".py",
   "mimetype": "text/x-python",
   "name": "python",
   "nbconvert_exporter": "python",
   "pygments_lexer": "ipython3",
   "version": "3.10.7"
  }
 },
 "nbformat": 4,
 "nbformat_minor": 5
}
