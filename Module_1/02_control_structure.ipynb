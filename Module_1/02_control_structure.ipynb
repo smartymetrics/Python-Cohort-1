{
 "cells": [
  {
   "cell_type": "markdown",
   "id": "4c3e18a1",
   "metadata": {},
   "source": [
    "# Python Control Structure : loop and conditional\n",
    "Control structures help you control the flow of your program. They allow your code to make decisions or repeat actions."
   ]
  },
  {
   "cell_type": "markdown",
   "id": "98f2ed08",
   "metadata": {},
   "source": [
    "## Conditional Statement"
   ]
  },
  {
   "cell_type": "markdown",
   "id": "d3ab8232",
   "metadata": {},
   "source": [
    "### 1. If Statement"
   ]
  },
  {
   "cell_type": "code",
   "execution_count": 2,
   "id": "9b56ab38",
   "metadata": {},
   "outputs": [
    {
     "name": "stdout",
     "output_type": "stream",
     "text": [
      "x is greater than 5\n",
      "x is less than 20\n"
     ]
    }
   ],
   "source": [
    "x = 10\n",
    "type(x)\n",
    "\n",
    "if x > 5:\n",
    "    print('x is greater than 5');\n",
    "if x < 20:\n",
    "    print(\"x is less than 20\")"
   ]
  },
  {
   "cell_type": "markdown",
   "id": "a4598d35",
   "metadata": {},
   "source": [
    "### 2. if... else statement"
   ]
  },
  {
   "cell_type": "code",
   "execution_count": null,
   "id": "9e52fd07",
   "metadata": {},
   "outputs": [
    {
     "name": "stdout",
     "output_type": "stream",
     "text": [
      "x is 5 or less\n"
     ]
    }
   ],
   "source": [
    "x = 3\n",
    "if x > 5:\n",
    "    print('x greater than 5')\n",
    "else:\n",
    "    print('x is 5 or less')"
   ]
  },
  {
   "cell_type": "markdown",
   "id": "1ea5f6b6",
   "metadata": {},
   "source": [
    "### 3. if... elif... else"
   ]
  },
  {
   "cell_type": "code",
   "execution_count": 4,
   "id": "579ce82d",
   "metadata": {},
   "outputs": [
    {
     "name": "stdout",
     "output_type": "stream",
     "text": [
      "x is greater than 5\n"
     ]
    }
   ],
   "source": [
    "x = 7\n",
    "\n",
    "if x < 5:\n",
    "    print('x is less than 5')\n",
    "elif x == 5:\n",
    "    print('x is 5')\n",
    "else: \n",
    "    print('x is greater than 5')\n",
    "    "
   ]
  },
  {
   "cell_type": "code",
   "execution_count": 6,
   "id": "bc1b6454",
   "metadata": {},
   "outputs": [
    {
     "name": "stdout",
     "output_type": "stream",
     "text": [
      "High balance wallet\n"
     ]
    }
   ],
   "source": [
    "wallet = 1500\n",
    "\n",
    "if wallet > 1000:\n",
    "    print('High balance wallet')\n",
    "else:\n",
    "    print('Low balance wallet')"
   ]
  },
  {
   "cell_type": "markdown",
   "id": "fa8ca4d9",
   "metadata": {},
   "source": [
    "## Logical operators\n",
    "What they do: they combine or invert conditions"
   ]
  },
  {
   "cell_type": "markdown",
   "id": "30577681",
   "metadata": {},
   "source": [
    "### 1. and operator\n",
    "Returns true only if both conditions are true"
   ]
  },
  {
   "cell_type": "code",
   "execution_count": 7,
   "id": "df627fb8",
   "metadata": {},
   "outputs": [
    {
     "name": "stdout",
     "output_type": "stream",
     "text": [
      "High balance and verified wallet\n"
     ]
    }
   ],
   "source": [
    "balance = 1500\n",
    "verified = True\n",
    "\n",
    "if balance > 1000 and verified:\n",
    "    print('High balance and verified wallet')"
   ]
  },
  {
   "cell_type": "markdown",
   "id": "9427ecde",
   "metadata": {},
   "source": [
    "### 2. or operetor\n",
    "Returns true if at least one condition is true"
   ]
  },
  {
   "cell_type": "code",
   "execution_count": 8,
   "id": "068d90f9",
   "metadata": {},
   "outputs": [
    {
     "name": "stdout",
     "output_type": "stream",
     "text": [
      "Passes at least one check\n"
     ]
    }
   ],
   "source": [
    "balance = 600\n",
    "verified = False\n",
    "\n",
    "if balance > 100 or verified:\n",
    "    print('Passes at least one check')\n",
    "else: \n",
    "    print('Fail both conditons')"
   ]
  },
  {
   "cell_type": "markdown",
   "id": "c6d9ccc8",
   "metadata": {},
   "source": [
    "### 3. not operator\n",
    "it reverses the condition"
   ]
  },
  {
   "cell_type": "code",
   "execution_count": 9,
   "id": "6121cfaf",
   "metadata": {},
   "outputs": [
    {
     "name": "stdout",
     "output_type": "stream",
     "text": [
      "wallet is clean\n"
     ]
    }
   ],
   "source": [
    "is_blacklisted = False\n",
    "\n",
    "if not is_blacklisted:\n",
    "    print('wallet is clean')"
   ]
  },
  {
   "cell_type": "code",
   "execution_count": 13,
   "id": "940429c6",
   "metadata": {},
   "outputs": [
    {
     "name": "stdout",
     "output_type": "stream",
     "text": [
      "Greater than zero but less than 200\n"
     ]
    }
   ],
   "source": [
    "y = 100\n",
    "\n",
    "if y > 0 and y < 200:\n",
    "    print('Greater than zero but less than 200');\n",
    "elif y > 0 or y < 200:\n",
    "    print('y is between 0 and 200')\n",
    "else:\n",
    "    print('y is out of range')\n",
    "\n"
   ]
  },
  {
   "cell_type": "code",
   "execution_count": 17,
   "id": "bdc29ef2",
   "metadata": {},
   "outputs": [
    {
     "name": "stdout",
     "output_type": "stream",
     "text": [
      "access granted but wallet not verified\n"
     ]
    }
   ],
   "source": [
    "age = 19\n",
    "permission = True\n",
    "verified = False\n",
    "\n",
    "if age > 18 and permission:\n",
    "    if not verified:\n",
    "        print('access granted but wallet not verified')\n",
    "    else:\n",
    "        print('access granted')\n",
    "else:\n",
    "    print('access denied')"
   ]
  },
  {
   "cell_type": "markdown",
   "id": "643be64b",
   "metadata": {},
   "source": [
    "# 4. For loop"
   ]
  },
  {
   "cell_type": "code",
   "execution_count": 1,
   "id": "1bcb157c",
   "metadata": {},
   "outputs": [
    {
     "name": "stdout",
     "output_type": "stream",
     "text": [
      "BTC\n",
      "ETH\n",
      "SOL\n"
     ]
    }
   ],
   "source": [
    "names = ['BTC', 'ETH', 'SOL']\n",
    "\n",
    "for name in names:\n",
    "    print(name)"
   ]
  },
  {
   "cell_type": "code",
   "execution_count": null,
   "id": "481cec8e",
   "metadata": {},
   "outputs": [
    {
     "name": "stdout",
     "output_type": "stream",
     "text": [
      "185\n"
     ]
    }
   ],
   "source": [
    "l1 = [35, 30, 50, 70]\n",
    "total = 0\n",
    "for i in l1:\n",
    "    total += i\n",
    "print(total)"
   ]
  },
  {
   "cell_type": "code",
   "execution_count": 6,
   "id": "3c5edf24",
   "metadata": {},
   "outputs": [
    {
     "name": "stdout",
     "output_type": "stream",
     "text": [
      "46.25\n"
     ]
    }
   ],
   "source": [
    "# to find average\n",
    "num = len(l1)\n",
    "average = total/num\n",
    "print(average)"
   ]
  },
  {
   "cell_type": "code",
   "execution_count": null,
   "id": "b131b71c",
   "metadata": {},
   "outputs": [
    {
     "name": "stdout",
     "output_type": "stream",
     "text": [
      "2\n",
      "7\n"
     ]
    }
   ],
   "source": [
    "# range() is type 2 loop\n",
    "for i in range(2,10, 5):\n",
    "    print(i)"
   ]
  },
  {
   "cell_type": "code",
   "execution_count": 16,
   "id": "3ab0856f",
   "metadata": {},
   "outputs": [
    {
     "name": "stdout",
     "output_type": "stream",
     "text": [
      "[0, 2, 4, 6, 8, 10, 12, 14, 16, 18, 20, 22, 24, 26, 28, 30, 32, 34, 36, 38, 40, 42, 44, 46, 48, 50, 52, 54, 56, 58, 60, 62, 64, 66, 68, 70, 72, 74, 76, 78, 80, 82, 84, 86, 88, 90, 92, 94, 96, 98]\n"
     ]
    }
   ],
   "source": [
    "l2 = []\n",
    "\n",
    "for i in range(100):\n",
    "    if i%2 == 0:\n",
    "        l2.append(i)\n",
    "print(l2)"
   ]
  },
  {
   "cell_type": "code",
   "execution_count": null,
   "id": "68a2c0c3",
   "metadata": {},
   "outputs": [
    {
     "name": "stdout",
     "output_type": "stream",
     "text": [
      "33\n",
      "45\n",
      "56\n",
      "78\n",
      "90\n"
     ]
    }
   ],
   "source": [
    "# type 3 loop - uses index\n",
    "l1 = [33, 45, 56, 78, 90]\n",
    "for i in range(len(l1)):\n",
    "    print(l1[i])"
   ]
  },
  {
   "cell_type": "code",
   "execution_count": 22,
   "id": "ec9569bc",
   "metadata": {},
   "outputs": [
    {
     "name": "stdout",
     "output_type": "stream",
     "text": [
      "btc 120000\n",
      "eth 2010\n",
      "sol 125\n"
     ]
    }
   ],
   "source": [
    "# type 4 loop\n",
    "crypto_prices = {'btc': 120000, 'eth': 2010, 'sol': 125}\n",
    "for i in crypto_prices:\n",
    "    print(i, crypto_prices.get(i))"
   ]
  },
  {
   "cell_type": "code",
   "execution_count": 24,
   "id": "2bff9bd1",
   "metadata": {},
   "outputs": [
    {
     "name": "stdout",
     "output_type": "stream",
     "text": [
      "btc\n",
      "eth\n",
      "sol\n"
     ]
    }
   ],
   "source": [
    "for i in crypto_prices.keys():\n",
    "    print(i)"
   ]
  },
  {
   "cell_type": "code",
   "execution_count": 26,
   "id": "80a758f1",
   "metadata": {},
   "outputs": [
    {
     "name": "stdout",
     "output_type": "stream",
     "text": [
      "120000\n",
      "2010\n",
      "125\n"
     ]
    }
   ],
   "source": [
    "for i in crypto_prices.values():\n",
    "    print(i)"
   ]
  },
  {
   "cell_type": "markdown",
   "id": "9f3e8687",
   "metadata": {},
   "source": [
    "# 5. While loop\n",
    "Keeps runs a block of code while it remains True"
   ]
  },
  {
   "cell_type": "code",
   "execution_count": 27,
   "metadata": {},
   "outputs": [
    {
     "name": "stdout",
     "output_type": "stream",
     "text": [
      "Counting 0\n",
      "Counting 1\n",
      "Counting 2\n"
     ]
    }
   ],
   "source": [
    "counter = 0\n",
    "\n",
    "while counter < 3:\n",
    "    print('Counting', counter)\n",
    "    counter += 1"
   ]
  },
  {
   "cell_type": "code",
   "execution_count": 33,
   "id": "764e0be2",
   "metadata": {},
   "outputs": [
    {
     "name": "stdout",
     "output_type": "stream",
     "text": [
      "10\n",
      "11\n",
      "12\n",
      "13\n",
      "14\n",
      "15\n",
      "16\n",
      "17\n",
      "18\n",
      "19\n"
     ]
    }
   ],
   "source": [
    "i = 10\n",
    "\n",
    "while True:\n",
    "    if i == 20:\n",
    "        break\n",
    "    print(i)\n",
    "    i += 1"
   ]
  },
  {
   "cell_type": "code",
   "execution_count": 37,
   "id": "6c87b2ff",
   "metadata": {},
   "outputs": [
    {
     "name": "stdout",
     "output_type": "stream",
     "text": [
      "2\n",
      "4\n",
      "6\n",
      "8\n",
      "10\n",
      "12\n",
      "14\n",
      "16\n",
      "18\n",
      "20\n",
      "22\n",
      "24\n",
      "26\n",
      "28\n",
      "30\n",
      "32\n",
      "34\n",
      "36\n",
      "38\n",
      "40\n",
      "42\n",
      "44\n",
      "46\n",
      "48\n",
      "50\n",
      "52\n",
      "54\n",
      "56\n",
      "58\n",
      "60\n",
      "62\n",
      "64\n",
      "66\n",
      "68\n",
      "70\n",
      "72\n",
      "74\n",
      "76\n",
      "78\n",
      "80\n",
      "82\n",
      "84\n",
      "86\n",
      "88\n",
      "90\n",
      "92\n",
      "94\n",
      "96\n",
      "98\n",
      "100\n"
     ]
    }
   ],
   "source": [
    "even = []\n",
    "i = 0\n",
    "while True:\n",
    "    if i > 100:\n",
    "        break\n",
    "    i += 1\n",
    "    if i%2 == 0:\n",
    "        even.append(i)\n",
    "        print(i)"
   ]
  },
  {
   "cell_type": "code",
   "execution_count": 41,
   "id": "f9c36cad",
   "metadata": {},
   "outputs": [
    {
     "name": "stdout",
     "output_type": "stream",
     "text": [
      "3 x 1 = 3\n",
      "3 x 2 = 6\n",
      "3 x 3 = 9\n",
      "3 x 4 = 12\n",
      "3 x 5 = 15\n",
      "3 x 6 = 18\n",
      "3 x 7 = 21\n",
      "3 x 8 = 24\n",
      "3 x 9 = 27\n",
      "3 x 10 = 30\n"
     ]
    }
   ],
   "source": [
    "# multiplication table of 3\n",
    "num1 = 3\n",
    "num2 = 1\n",
    "\n",
    "while True:\n",
    "    if num2 == 11:\n",
    "        break\n",
    "    print(num1, 'x', num2, '=', num1 * num2)\n",
    "    num2 += 1"
   ]
  },
  {
   "cell_type": "code",
   "execution_count": null,
   "id": "cc9de4c2",
   "metadata": {},
   "outputs": [
    {
     "name": "stdout",
     "output_type": "stream",
     "text": [
      "0\n",
      "1\n",
      "3\n",
      "4\n"
     ]
    },
    {
     "ename": "",
     "evalue": "",
     "output_type": "error",
     "traceback": [
      "\u001b[1;31mThe Kernel crashed while executing code in the current cell or a previous cell. \n",
      "\u001b[1;31mPlease review the code in the cell(s) to identify a possible cause of the failure. \n",
      "\u001b[1;31mClick <a href='https://aka.ms/vscodeJupyterKernelCrash'>here</a> for more info. \n",
      "\u001b[1;31mView Jupyter <a href='command:jupyter.viewOutput'>log</a> for further details."
     ]
    }
   ],
   "source": [
    "# continue - skips to the next iteration\n",
    "\n",
    "for i in range(5):\n",
    "    if i == 2:\n",
    "        continue\n",
    "    print(i)"
   ]
  }
 ],
 "metadata": {
  "kernelspec": {
   "display_name": "pythonz",
   "language": "python",
   "name": "python3"
  },
  "language_info": {
   "codemirror_mode": {
    "name": "ipython",
    "version": 3
   },
   "file_extension": ".py",
   "mimetype": "text/x-python",
   "name": "python",
   "nbconvert_exporter": "python",
   "pygments_lexer": "ipython3",
   "version": "3.10.7"
  }
 },
 "nbformat": 4,
 "nbformat_minor": 5
}
