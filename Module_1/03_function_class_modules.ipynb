{
 "cells": [
  {
   "cell_type": "markdown",
   "id": "32eb6aed",
   "metadata": {},
   "source": [
    "# Function, classes and modules"
   ]
  },
  {
   "cell_type": "markdown",
   "id": "e84b62e0",
   "metadata": {},
   "source": [
    "## Functions in python\n",
    "What is a Function\n",
    "\n",
    "A function is a reusable block of code that performs a specific task, to help reduce repetition and improve code organization."
   ]
  },
  {
   "cell_type": "code",
   "execution_count": 2,
   "id": "bf0b44a0",
   "metadata": {},
   "outputs": [
    {
     "name": "stdout",
     "output_type": "stream",
     "text": [
      "The sum is: 7\n"
     ]
    }
   ],
   "source": [
    "# Basic syntax\n",
    "def add():\n",
    "    sum = 2 + 5\n",
    "    print('The sum is:', sum)\n",
    "\n",
    "add()"
   ]
  },
  {
   "cell_type": "markdown",
   "id": "ba6af64c",
   "metadata": {},
   "source": [
    "### Function arguments and parameters\n",
    "\n",
    "#### Types of argument:\n",
    "1. Positional argumen\n",
    "2. Keyword argument"
   ]
  },
  {
   "cell_type": "markdown",
   "id": "b106c55c",
   "metadata": {},
   "source": [
    "### Positional argument"
   ]
  },
  {
   "cell_type": "code",
   "execution_count": 8,
   "id": "a1100789",
   "metadata": {},
   "outputs": [
    {
     "name": "stdout",
     "output_type": "stream",
     "text": [
      "9\n"
     ]
    }
   ],
   "source": [
    "def add_positions(a : int,b,c) -> int:\n",
    "    sum = a+b+c\n",
    "    return sum\n",
    "\n",
    "result = add_positions(2,3,4)\n",
    "print(result)"
   ]
  },
  {
   "cell_type": "markdown",
   "id": "7dd85a60",
   "metadata": {},
   "source": [
    "### keyword argument"
   ]
  },
  {
   "cell_type": "code",
   "execution_count": null,
   "id": "0081ce36",
   "metadata": {},
   "outputs": [
    {
     "name": "stdout",
     "output_type": "stream",
     "text": [
      "Name Bob\n",
      "Age 25\n"
     ]
    }
   ],
   "source": [
    "def add_keyword(name = 'alice', age = 30):\n",
    "    print('Name', name)\n",
    "    print('Age', age)\n",
    "\n",
    "add_keyword(name='Bob', age=25)"
   ]
  },
  {
   "cell_type": "code",
   "execution_count": 14,
   "id": "ad6ca4b2",
   "metadata": {},
   "outputs": [
    {
     "name": "stdout",
     "output_type": "stream",
     "text": [
      "Name Charlie\n",
      "Age 30\n"
     ]
    }
   ],
   "source": [
    "add_keyword(age= 30, name='Charlie')"
   ]
  },
  {
   "cell_type": "markdown",
   "id": "6a468a97",
   "metadata": {},
   "source": [
    "### *args Arguments"
   ]
  },
  {
   "cell_type": "code",
   "execution_count": 15,
   "id": "3b048251",
   "metadata": {},
   "outputs": [],
   "source": [
    "def add_args(*args):\n",
    "    print(type(args))\n",
    "    for num in args:\n",
    "        print(num, end=' ')"
   ]
  },
  {
   "cell_type": "code",
   "execution_count": 16,
   "id": "d2ed81b6",
   "metadata": {},
   "outputs": [
    {
     "name": "stdout",
     "output_type": "stream",
     "text": [
      "<class 'tuple'>\n",
      "12 25 7 90 "
     ]
    }
   ],
   "source": [
    "add_args(12,25,7,90)"
   ]
  },
  {
   "cell_type": "markdown",
   "id": "92401ad3",
   "metadata": {},
   "source": [
    "### **kwargs Arguments"
   ]
  },
  {
   "cell_type": "code",
   "execution_count": 17,
   "id": "332de198",
   "metadata": {},
   "outputs": [],
   "source": [
    "def add_kwargs(**kwargs):\n",
    "    print(type(kwargs))\n",
    "    for key, value in kwargs.items():\n",
    "        print(f'{key}: {value}')"
   ]
  },
  {
   "cell_type": "code",
   "execution_count": 18,
   "id": "fd719808",
   "metadata": {},
   "outputs": [
    {
     "name": "stdout",
     "output_type": "stream",
     "text": [
      "<class 'dict'>\n",
      "name: David\n",
      "age: 25\n",
      "city: New York\n"
     ]
    }
   ],
   "source": [
    "add_kwargs(name='David', age=25, city='New York')"
   ]
  },
  {
   "cell_type": "code",
   "execution_count": 30,
   "id": "4009fc31",
   "metadata": {},
   "outputs": [],
   "source": [
    "def average(number):\n",
    "    total = 0\n",
    "    for i in number:\n",
    "        total += i\n",
    "    avg = total/len(number)\n",
    "    \n",
    "    return avg"
   ]
  },
  {
   "cell_type": "code",
   "execution_count": 31,
   "id": "c82faa53",
   "metadata": {},
   "outputs": [
    {
     "name": "stdout",
     "output_type": "stream",
     "text": [
      "31.174\n"
     ]
    }
   ],
   "source": [
    "price = [1, 22, 45, 78, 9.87]\n",
    "avg = average(price)\n",
    "print(avg)"
   ]
  },
  {
   "cell_type": "code",
   "execution_count": 36,
   "id": "70bce62a",
   "metadata": {},
   "outputs": [],
   "source": [
    "# Crypto price change percentage\n",
    "def calculate_price_changes(old_price, new_price):\n",
    "    change = 100 * (new_price - old_price)/old_price\n",
    "    return round(change,2)"
   ]
  },
  {
   "cell_type": "code",
   "execution_count": 37,
   "id": "8e905c1c",
   "metadata": {},
   "outputs": [
    {
     "name": "stdout",
     "output_type": "stream",
     "text": [
      "BTC price change: 20.0%\n"
     ]
    }
   ],
   "source": [
    "btc_change = calculate_price_changes(100000, 120000)\n",
    "print(f'BTC price change: {btc_change}%')"
   ]
  },
  {
   "cell_type": "code",
   "execution_count": 2,
   "id": "3743a7b9",
   "metadata": {},
   "outputs": [
    {
     "name": "stdout",
     "output_type": "stream",
     "text": [
      "Bitcoin is currently trading at $$110,000.00\n",
      "Ethereum is currently trading at $1,800.00\n"
     ]
    }
   ],
   "source": [
    "def format_crypto_price(name, price, symbol='$'):\n",
    "    return f'{name} is currently trading at {symbol}{price:,.2f}'\n",
    "\n",
    "print(format_crypto_price('Bitcoin', 110000, '$$'))\n",
    "print(format_crypto_price('Ethereum', 1800, '$'))"
   ]
  },
  {
   "cell_type": "markdown",
   "id": "129a8757",
   "metadata": {},
   "source": [
    "## Classes in Python\n",
    "### What Are Classes?\n",
    "Classes are blueprints for creating objects. An object is an instance of a class that can hold data(attributes) and perform actions (methods). Classes are ideal for modelling real-world entities, like a cryptocurrency or a portfolio.\n",
    "\n",
    "## Defining a Class\n",
    "-- Use the class keyword to define a class.\n",
    "\n",
    "-- Classes typically include:\n",
    "- Attributes: Variables that store data.\n",
    "- Methods: Functions that define the behaviour of the class.\n",
    "- Constructor (init): A special method to initialize objects."
   ]
  },
  {
   "cell_type": "markdown",
   "id": "a366f6fb",
   "metadata": {},
   "source": []
  },
  {
   "cell_type": "markdown",
   "id": "57396f0b",
   "metadata": {},
   "source": [
    "## What is self in a Class?\n",
    "-- Definition: self is the first parameter in instace methods of a class. It represents the instance (object) on which the method is called. While self is not a reserved keyword in Python, it's the standard convention for naming this parameter.\n",
    "\n",
    "-- Purpose: self allows methods to:\n",
    "\n",
    "- Access and modify the instance's attributes.\n",
    "- Call other methods of the same instance.\n",
    "- Differentiate between instance-specific data and class-level data.\n",
    "\n",
    "-- When Used: self is used in instance methods (not static or class methods) and in the init constructor to initialize instance attributes."
   ]
  },
  {
   "cell_type": "markdown",
   "id": "b36b054f",
   "metadata": {},
   "source": [
    "#### Defining a Class"
   ]
  },
  {
   "cell_type": "code",
   "execution_count": 6,
   "id": "5aac3616",
   "metadata": {},
   "outputs": [],
   "source": [
    "class CryptoWallet:\n",
    "    # Constructor\n",
    "    def __init__(self, owner):\n",
    "        self.owner = owner\n",
    "        self.balance = {}\n",
    "\n",
    "    def deposit(self, token, amount):\n",
    "        self.balance[token] = self.balance.get(token,0) + amount\n",
    "\n",
    "    def withdraw(self, token, amount):\n",
    "        if self.balance.get(token, 0) >= amount:\n",
    "            self.balance[token] -= amount\n",
    "            return True\n",
    "        else:\n",
    "            return False\n",
    "        \n",
    "    def view_balance(self):\n",
    "        return self.balance\n",
    "\n"
   ]
  },
  {
   "cell_type": "code",
   "execution_count": 5,
   "id": "da5a52e2",
   "metadata": {},
   "outputs": [
    {
     "name": "stdout",
     "output_type": "stream",
     "text": [
      "{'ETH': 0.7, 'BTC': 0.1}\n"
     ]
    }
   ],
   "source": [
    "wallet = CryptoWallet('Joseph')\n",
    "wallet.deposit('ETH', 0.7)\n",
    "wallet.deposit('BTC',0.1)\n",
    "\n",
    "print(wallet.view_balance())"
   ]
  },
  {
   "cell_type": "code",
   "execution_count": 14,
   "id": "61a29bca",
   "metadata": {},
   "outputs": [
    {
     "name": "stdout",
     "output_type": "stream",
     "text": [
      "Withdrawal Success: True\n",
      "{'ETH': 0.6, 'BTC': 0.1}\n"
     ]
    }
   ],
   "source": [
    "success = wallet.withdraw('ETH', 0.1)\n",
    "\n",
    "print('Withdrawal Success:',success)\n",
    "print(wallet.view_balance())"
   ]
  },
  {
   "cell_type": "code",
   "execution_count": 23,
   "id": "da8661ef",
   "metadata": {},
   "outputs": [],
   "source": [
    "class Cryptocurrency:\n",
    "    \"\"\"Class to represent tehe cryptocurrency\"\"\"\n",
    "    def __init__(self, name, symbol, price, quantity):\n",
    "        self.name = name        # e.g Bitcoin etc\n",
    "        self.price = price      # current price in usd\n",
    "        self.symbol = symbol    # e.g btc\n",
    "        self.quantity = quantity# amount held\n",
    "\n",
    "    def get_value(self):\n",
    "        \"\"\"Calculate the total value of the holding\"\"\"\n",
    "        return self.price * self.quantity\n",
    "    def updated_price(self, new_price):\n",
    "        \"\"\"update the cryptocurrency price\"\"\"\n",
    "        self.price = new_price\n",
    "\n",
    "class portifolio:\n",
    "    \"\"\"Class to manage a portifolio of cryptocurrencies\"\"\"\n",
    "    def __init__(self):\n",
    "        self.holdings = {} # dictionary to store cryptocurrency\n",
    "\n",
    "    def add_crypto(self, crypto):\n",
    "        \"\"\"Add a cryptocurrency to the portifolio\"\"\"\n",
    "        self.holdings[crypto.symbol] = crypto\n",
    "\n",
    "    def get_total_value(self):\n",
    "        '''Calculates the total value of the portifolio'''\n",
    "        total = sum(crypto.get_value() for crypto in self.holdings.values())\n",
    "        return total\n",
    "    \n",
    "    def get_holdings(self, symbol):\n",
    "        '''Retrieves a cryptocurrency by its symbol'''\n",
    "        return self.holdings.get(symbol, None)\n",
    "    \n",
    "    def withdrawal_crypto(self, symbol, quantity):\n",
    "        ''' Withdraw a specified quantity of a cryptocurrency '''\n",
    "        crypto = self.get_holdings(symbol)\n",
    "        if not crypto:\n",
    "            print(f'Error: {symbol} not found in the portifolio')\n",
    "            return False\n",
    "        # Validate Quantity\n",
    "        if quantity <= 0:\n",
    "            print(f'Error: Withdrawal quantity must be positive')\n",
    "            return False\n",
    "        if quantity > crypto.quantity:\n",
    "            print(f'Error: insufficient {symbol} quantity, Available: {crypto.quantity}, Request: {quantity}')\n",
    "            return False\n",
    "        \n",
    "        # Updaye quantity\n",
    "        crypto.quantity -= quantity\n",
    "        print(f'Withdrew {quantity}{symbol}, Remaining: {crypto.quantity}')\n",
    "\n",
    "        # Remove cryptocurrency if quantity is 0\n",
    "        if crypto.quantity == 0:\n",
    "            del self.holdings[symbol]\n",
    "            print(f'{symbol} holding removed from the portifolio')\n",
    "        return True"
   ]
  },
  {
   "cell_type": "code",
   "execution_count": 27,
   "id": "11052fd8",
   "metadata": {},
   "outputs": [
    {
     "name": "stdout",
     "output_type": "stream",
     "text": [
      "Portifolio Total Value: $117200.00\n"
     ]
    }
   ],
   "source": [
    "# Create cryptocurrency objects\n",
    "bitcoin = Cryptocurrency('Bitcoin', 'BTC', 117000, 1)\n",
    "ethereum = Cryptocurrency('Ethereum', 'ETH', 500, 0.4)\n",
    "\n",
    "# Create the portifolio objects\n",
    "my_portifolio = portifolio()\n",
    "my_portifolio.add_crypto(bitcoin)\n",
    "my_portifolio.add_crypto(ethereum)\n",
    "\n",
    "# Calculate total Portifolio values\n",
    "total_value = my_portifolio.get_total_value()\n",
    "print(f'Portifolio Total Value: ${total_value:.2f}')"
   ]
  },
  {
   "cell_type": "code",
   "execution_count": 28,
   "id": "45644f07",
   "metadata": {},
   "outputs": [
    {
     "name": "stdout",
     "output_type": "stream",
     "text": [
      "New Bitcoin Price: $100000\n",
      "Updated Portifolio Value: $100200.00\n"
     ]
    }
   ],
   "source": [
    "bitcoin.updated_price(100000)\n",
    "print(f'New Bitcoin Price: ${bitcoin.price}')\n",
    "print(f'Updated Portifolio Value: ${my_portifolio.get_total_value():.2f}')"
   ]
  },
  {
   "cell_type": "code",
   "execution_count": 29,
   "id": "054e55c8",
   "metadata": {},
   "outputs": [
    {
     "name": "stdout",
     "output_type": "stream",
     "text": [
      "Withdrew 0.2ETH, Remaining: 0.2\n",
      "Portifolio Value after withdrawing 0.2 ETH: $100100.00\n"
     ]
    }
   ],
   "source": [
    "my_portifolio.withdrawal_crypto('ETH', 0.2)\n",
    "print(f'Portifolio Value after withdrawing 0.2 ETH: ${my_portifolio.get_total_value():.2f}')"
   ]
  },
  {
   "cell_type": "markdown",
   "id": "8326d734",
   "metadata": {},
   "source": [
    "# Modules\n",
    "## Modules (Contains Reusable Code, Functions and Variables)\n",
    "A python module is a file containing Python code(e.g functions, variable, classes) that can be imported and reused in other programs. It organizes related code into a single file, making it easy to manage and share."
   ]
  },
  {
   "cell_type": "markdown",
   "id": "5c543aeb",
   "metadata": {},
   "source": [
    "### Type Of Modules"
   ]
  },
  {
   "cell_type": "markdown",
   "id": "7fa42d36",
   "metadata": {},
   "source": [
    "#### Standard Module/Library: Built in"
   ]
  },
  {
   "cell_type": "code",
   "execution_count": 1,
   "id": "35bad47c",
   "metadata": {},
   "outputs": [],
   "source": [
    "# standard Module\n",
    "import math\n",
    "import time\n",
    "import random\n",
    "import os\n",
    "import sys"
   ]
  },
  {
   "cell_type": "code",
   "execution_count": 2,
   "id": "bb854373",
   "metadata": {},
   "outputs": [
    {
     "name": "stdout",
     "output_type": "stream",
     "text": [
      "4.0\n"
     ]
    }
   ],
   "source": [
    "sqrt_value = math.sqrt(16)\n",
    "\n",
    "print(sqrt_value)"
   ]
  },
  {
   "cell_type": "code",
   "execution_count": 4,
   "id": "1b6680f5",
   "metadata": {},
   "outputs": [],
   "source": [
    "time.sleep(5)"
   ]
  },
  {
   "cell_type": "code",
   "execution_count": 7,
   "id": "7d014f43",
   "metadata": {},
   "outputs": [
    {
     "name": "stdout",
     "output_type": "stream",
     "text": [
      "9\n"
     ]
    }
   ],
   "source": [
    "random_num = random.randint(1, 10)\n",
    "print(random_num)"
   ]
  },
  {
   "cell_type": "code",
   "execution_count": 8,
   "id": "62b4e5d0",
   "metadata": {},
   "outputs": [
    {
     "name": "stdout",
     "output_type": "stream",
     "text": [
      "3.10.7 (tags/v3.10.7:6cc6b13, Sep  5 2022, 14:08:36) [MSC v.1933 64 bit (AMD64)]\n"
     ]
    }
   ],
   "source": [
    "python_ver = sys.version\n",
    "print(python_ver)"
   ]
  },
  {
   "cell_type": "markdown",
   "id": "8a4d322b",
   "metadata": {},
   "source": [
    "### Third Party Module\n",
    "Examples:\n",
    "\n",
    "- Panda\n",
    "- web3\n",
    "- tweeby\n",
    "etc"
   ]
  },
  {
   "cell_type": "code",
   "execution_count": null,
   "id": "1df00a5a",
   "metadata": {},
   "outputs": [
    {
     "ename": "",
     "evalue": "",
     "output_type": "error",
     "traceback": [
      "\u001b[1;31mThe Kernel crashed while executing code in the current cell or a previous cell. \n",
      "\u001b[1;31mPlease review the code in the cell(s) to identify a possible cause of the failure. \n",
      "\u001b[1;31mClick <a href='https://aka.ms/vscodeJupyterKernelCrash'>here</a> for more info. \n",
      "\u001b[1;31mView Jupyter <a href='command:jupyter.viewOutput'>log</a> for further details."
     ]
    }
   ],
   "source": [
    "import pandas as pd\n",
    "import numpy as np\n",
    "import web3"
   ]
  },
  {
   "cell_type": "markdown",
   "id": "a7c7b7a6",
   "metadata": {},
   "source": [
    "#### Custom Modules\n",
    "\n",
    "Save your script with .py extension ... e.g learn.py"
   ]
  }
 ],
 "metadata": {
  "kernelspec": {
   "display_name": "pythonz",
   "language": "python",
   "name": "python3"
  },
  "language_info": {
   "codemirror_mode": {
    "name": "ipython",
    "version": 3
   },
   "file_extension": ".py",
   "mimetype": "text/x-python",
   "name": "python",
   "nbconvert_exporter": "python",
   "pygments_lexer": "ipython3",
   "version": "3.10.7"
  }
 },
 "nbformat": 4,
 "nbformat_minor": 5
}
