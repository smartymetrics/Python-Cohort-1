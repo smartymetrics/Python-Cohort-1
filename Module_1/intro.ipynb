{
 "cells": [
  {
   "cell_type": "code",
   "execution_count": 27,
   "id": "8ffbc341",
   "metadata": {},
   "outputs": [
    {
     "name": "stdout",
     "output_type": "stream",
     "text": [
      "8\n"
     ]
    }
   ],
   "source": [
    "a = 6\n",
    "c = 2\n",
    "\n",
    "b = a + c\n",
    "print(b)\n"
   ]
  },
  {
   "cell_type": "markdown",
   "id": "04a9e874",
   "metadata": {},
   "source": [
    "## f string"
   ]
  },
  {
   "cell_type": "code",
   "execution_count": 28,
   "id": "20278550",
   "metadata": {},
   "outputs": [
    {
     "name": "stdout",
     "output_type": "stream",
     "text": [
      "i am 8 years old\n"
     ]
    }
   ],
   "source": [
    "print(f'i am {b} years old')"
   ]
  },
  {
   "cell_type": "code",
   "execution_count": 29,
   "id": "94687e04",
   "metadata": {},
   "outputs": [
    {
     "name": "stdout",
     "output_type": "stream",
     "text": [
      "hello Alice!\n"
     ]
    }
   ],
   "source": [
    "name = 'Alice'\n",
    "print(f'hello {name}!')"
   ]
  },
  {
   "cell_type": "markdown",
   "id": "8d28f736",
   "metadata": {},
   "source": [
    "## input"
   ]
  },
  {
   "cell_type": "code",
   "execution_count": null,
   "id": "f24af369",
   "metadata": {},
   "outputs": [],
   "source": [
    "crypto = input('Enter you favourite asset')\n",
    "print('my favourite asset is ' + crypto)"
   ]
  },
  {
   "cell_type": "code",
   "execution_count": null,
   "id": "62742658",
   "metadata": {},
   "outputs": [
    {
     "name": "stdout",
     "output_type": "stream",
     "text": [
      "You are 3 years old\n"
     ]
    }
   ],
   "source": [
    "age = int(input('Enter your age')) # get age as a non-decimal number\n",
    "print(f'You are {age} years old')"
   ]
  },
  {
   "cell_type": "markdown",
   "id": "f8dfbfb6",
   "metadata": {},
   "source": [
    "## variable\n",
    "\n",
    "#### Naming Rules:\n",
    "Start with a letter or _ (not a number).<br>\n",
    "Can contain letters, numbers, or _ (no spaces or symbols).<br>\n",
    "Case-sensitive (Name ≠ name).<br>\n",
    "Avoid Python keywords (e.g., don’t name a variable print).<br>\n"
   ]
  },
  {
   "cell_type": "code",
   "execution_count": null,
   "id": "23b77cf6",
   "metadata": {},
   "outputs": [
    {
     "name": "stdout",
     "output_type": "stream",
     "text": [
      "International\n"
     ]
    }
   ],
   "source": [
    "name = 'Inter'\n",
    "Name = 'national'\n",
    "print(name + Name)"
   ]
  },
  {
   "cell_type": "markdown",
   "id": "628b2330",
   "metadata": {},
   "source": [
    "## Data type\n",
    "A data structure is a way to organize, store, and access data efficiently so it can be used effectively. In Python, data structures are built-in types that allow you to group and manipulate data in different formats depending on your need."
   ]
  },
  {
   "cell_type": "markdown",
   "id": "585a6d42",
   "metadata": {},
   "source": [
    "### 1. Strings\n"
   ]
  },
  {
   "cell_type": "code",
   "execution_count": null,
   "id": "cc11431d",
   "metadata": {},
   "outputs": [],
   "source": [
    "name = \"BlockcHain\""
   ]
  },
  {
   "cell_type": "markdown",
   "id": "4c182673",
   "metadata": {},
   "source": [
    "#### Common Methods and Functions in Strings"
   ]
  },
  {
   "cell_type": "code",
   "execution_count": null,
   "id": "090b3f53",
   "metadata": {},
   "outputs": [
    {
     "data": {
      "text/plain": [
       "10"
      ]
     },
     "execution_count": 2,
     "metadata": {},
     "output_type": "execute_result"
    }
   ],
   "source": [
    "len(name)"
   ]
  },
  {
   "cell_type": "code",
   "execution_count": null,
   "id": "9d22600b",
   "metadata": {},
   "outputs": [
    {
     "data": {
      "text/plain": [
       "'blockchain'"
      ]
     },
     "execution_count": 4,
     "metadata": {},
     "output_type": "execute_result"
    }
   ],
   "source": [
    "name.lower() "
   ]
  },
  {
   "cell_type": "code",
   "execution_count": null,
   "id": "adb141e5",
   "metadata": {},
   "outputs": [
    {
     "data": {
      "text/plain": [
       "'BLOCKCHAIN'"
      ]
     },
     "execution_count": 5,
     "metadata": {},
     "output_type": "execute_result"
    }
   ],
   "source": [
    "name.upper()"
   ]
  },
  {
   "cell_type": "code",
   "execution_count": null,
   "id": "6d4a18f3",
   "metadata": {},
   "outputs": [
    {
     "name": "stdout",
     "output_type": "stream",
     "text": [
      " blockchain\n"
     ]
    }
   ],
   "source": [
    "space = ' blockchain'\n",
    "space.strip()"
   ]
  },
  {
   "cell_type": "code",
   "execution_count": null,
   "id": "e745d4a1",
   "metadata": {},
   "outputs": [],
   "source": [
    "change = 'blockchain'\n",
    "new_change = change.replace('blockchain', 'crypto')"
   ]
  },
  {
   "cell_type": "code",
   "execution_count": null,
   "id": "4c881e6a",
   "metadata": {},
   "outputs": [
    {
     "name": "stdout",
     "output_type": "stream",
     "text": [
      "blockchain new crypto\n"
     ]
    }
   ],
   "source": [
    "print(change, 'new', new_change)"
   ]
  },
  {
   "cell_type": "code",
   "execution_count": null,
   "id": "fe133101",
   "metadata": {},
   "outputs": [],
   "source": [
    "y = 'blockchain, crypto, asset, price'\n",
    "y=y.split(\",\")"
   ]
  },
  {
   "cell_type": "code",
   "execution_count": null,
   "id": "a8ffca43",
   "metadata": {},
   "outputs": [
    {
     "data": {
      "text/plain": [
       "True"
      ]
     },
     "execution_count": 21,
     "metadata": {},
     "output_type": "execute_result"
    }
   ],
   "source": [
    "a = 'cryptoAsset'\n",
    "'y' in a"
   ]
  },
  {
   "cell_type": "markdown",
   "id": "6d8d4db2",
   "metadata": {},
   "source": [
    "### 2. LIST()"
   ]
  },
  {
   "cell_type": "code",
   "execution_count": 2,
   "id": "1c86fd09",
   "metadata": {},
   "outputs": [
    {
     "data": {
      "text/plain": [
       "list"
      ]
     },
     "execution_count": 2,
     "metadata": {},
     "output_type": "execute_result"
    }
   ],
   "source": [
    "tokens = ['btc', 'eth', 'sol', 'ada']\n",
    "type(tokens)"
   ]
  },
  {
   "cell_type": "code",
   "execution_count": null,
   "id": "72597c03",
   "metadata": {},
   "outputs": [],
   "source": []
  },
  {
   "cell_type": "markdown",
   "id": "9010c040",
   "metadata": {},
   "source": [
    "### Common Methods and Functions in Strings"
   ]
  },
  {
   "cell_type": "code",
   "execution_count": null,
   "id": "0faca83e",
   "metadata": {},
   "outputs": [
    {
     "data": {
      "text/plain": [
       "4"
      ]
     },
     "execution_count": 25,
     "metadata": {},
     "output_type": "execute_result"
    }
   ],
   "source": [
    "len(tokens)"
   ]
  },
  {
   "cell_type": "code",
   "execution_count": null,
   "id": "8b6bd503",
   "metadata": {},
   "outputs": [],
   "source": [
    "tokens.append('TIA')\n",
    "tokens"
   ]
  },
  {
   "cell_type": "code",
   "execution_count": null,
   "id": "ca0de202",
   "metadata": {},
   "outputs": [],
   "source": [
    "# .insert adds to an index\n",
    "tokens.insert(2,'DOT')"
   ]
  },
  {
   "cell_type": "code",
   "execution_count": null,
   "id": "2e1d2cd7",
   "metadata": {},
   "outputs": [],
   "source": [
    "tokens.insert(4, 'GRASS')"
   ]
  },
  {
   "cell_type": "code",
   "execution_count": null,
   "id": "6e37d86e",
   "metadata": {},
   "outputs": [],
   "source": [
    "# .remove removes the first match\n",
    "tokens.append('sol')\n",
    "tokens.remove('sol')\n",
    "tokens"
   ]
  },
  {
   "cell_type": "code",
   "execution_count": null,
   "id": "73dc2891",
   "metadata": {},
   "outputs": [],
   "source": [
    "# .pop pop removes and return\n",
    "tokens.pop(4)"
   ]
  },
  {
   "cell_type": "code",
   "execution_count": null,
   "id": "d7f8f6f4",
   "metadata": {},
   "outputs": [
    {
     "data": {
      "text/plain": [
       "['ada', 'btc', 'eth', 'sol']"
      ]
     },
     "execution_count": 4,
     "metadata": {},
     "output_type": "execute_result"
    }
   ],
   "source": [
    "# .sort sorts a list in aphabetical order\n",
    "tokens.sort()\n",
    "tokens"
   ]
  },
  {
   "cell_type": "code",
   "execution_count": 5,
   "id": "1c932b62",
   "metadata": {},
   "outputs": [
    {
     "data": {
      "text/plain": [
       "['sol', 'eth', 'btc', 'ada']"
      ]
     },
     "execution_count": 5,
     "metadata": {},
     "output_type": "execute_result"
    }
   ],
   "source": [
    "# .reverse reverses the order\n",
    "tokens.reverse()\n",
    "tokens"
   ]
  },
  {
   "cell_type": "markdown",
   "id": "78aa91d3",
   "metadata": {},
   "source": [
    "#### Indexing and slicing"
   ]
  },
  {
   "cell_type": "code",
   "execution_count": 6,
   "id": "6a345c60",
   "metadata": {},
   "outputs": [],
   "source": [
    "z = tokens\n"
   ]
  },
  {
   "cell_type": "code",
   "execution_count": 7,
   "id": "3b827afd",
   "metadata": {},
   "outputs": [
    {
     "data": {
      "text/plain": [
       "'sol'"
      ]
     },
     "execution_count": 7,
     "metadata": {},
     "output_type": "execute_result"
    }
   ],
   "source": [
    "z[0] # fetch sol"
   ]
  },
  {
   "cell_type": "code",
   "execution_count": 12,
   "id": "ffdba793",
   "metadata": {},
   "outputs": [
    {
     "data": {
      "text/plain": [
       "['sol', 'eth', 'btc']"
      ]
     },
     "execution_count": 12,
     "metadata": {},
     "output_type": "execute_result"
    }
   ],
   "source": [
    "z[0:3] # this slice out only first three elements 0,1,2"
   ]
  }
 ],
 "metadata": {
  "kernelspec": {
   "display_name": "pythonz",
   "language": "python",
   "name": "python3"
  },
  "language_info": {
   "codemirror_mode": {
    "name": "ipython",
    "version": 3
   },
   "file_extension": ".py",
   "mimetype": "text/x-python",
   "name": "python",
   "nbconvert_exporter": "python",
   "pygments_lexer": "ipython3",
   "version": "3.10.7"
  }
 },
 "nbformat": 4,
 "nbformat_minor": 5
}
