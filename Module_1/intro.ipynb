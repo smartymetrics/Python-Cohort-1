{
 "cells": [
  {
   "cell_type": "code",
   "execution_count": 27,
   "id": "8ffbc341",
   "metadata": {},
   "outputs": [
    {
     "name": "stdout",
     "output_type": "stream",
     "text": [
      "8\n"
     ]
    }
   ],
   "source": [
    "a = 6\n",
    "c = 2\n",
    "\n",
    "b = a + c\n",
    "print(b)\n"
   ]
  },
  {
   "cell_type": "markdown",
   "id": "04a9e874",
   "metadata": {},
   "source": [
    "## f string"
   ]
  },
  {
   "cell_type": "code",
   "execution_count": 28,
   "id": "20278550",
   "metadata": {},
   "outputs": [
    {
     "name": "stdout",
     "output_type": "stream",
     "text": [
      "i am 8 years old\n"
     ]
    }
   ],
   "source": [
    "print(f'i am {b} years old')"
   ]
  },
  {
   "cell_type": "code",
   "execution_count": 29,
   "id": "94687e04",
   "metadata": {},
   "outputs": [
    {
     "name": "stdout",
     "output_type": "stream",
     "text": [
      "hello Alice!\n"
     ]
    }
   ],
   "source": [
    "name = 'Alice'\n",
    "print(f'hello {name}!')"
   ]
  },
  {
   "cell_type": "markdown",
   "id": "8d28f736",
   "metadata": {},
   "source": [
    "## input"
   ]
  },
  {
   "cell_type": "code",
   "execution_count": null,
   "id": "f24af369",
   "metadata": {},
   "outputs": [],
   "source": [
    "crypto = input('Enter you favourite asset')\n",
    "print('my favourite asset is ' + crypto)"
   ]
  },
  {
   "cell_type": "code",
   "execution_count": null,
   "id": "62742658",
   "metadata": {},
   "outputs": [
    {
     "name": "stdout",
     "output_type": "stream",
     "text": [
      "You are 3 years old\n"
     ]
    }
   ],
   "source": [
    "age = int(input('Enter your age')) # get age as a non-decimal number\n",
    "print(f'You are {age} years old')"
   ]
  },
  {
   "cell_type": "markdown",
   "id": "f8dfbfb6",
   "metadata": {},
   "source": [
    "## variable\n",
    "\n",
    "#### Naming Rules:\n",
    "Start with a letter or _ (not a number).<br>\n",
    "Can contain letters, numbers, or _ (no spaces or symbols).<br>\n",
    "Case-sensitive (Name ≠ name).<br>\n",
    "Avoid Python keywords (e.g., don’t name a variable print).<br>\n"
   ]
  },
  {
   "cell_type": "code",
   "execution_count": null,
   "id": "23b77cf6",
   "metadata": {},
   "outputs": [
    {
     "name": "stdout",
     "output_type": "stream",
     "text": [
      "International\n"
     ]
    }
   ],
   "source": [
    "name = 'Inter'\n",
    "Name = 'national'\n",
    "print(name + Name)"
   ]
  },
  {
   "cell_type": "markdown",
   "id": "628b2330",
   "metadata": {},
   "source": [
    "## Data type\n",
    "A data structure is a way to organize, store, and access data efficiently so it can be used effectively. In Python, data structures are built-in types that allow you to group and manipulate data in different formats depending on your need."
   ]
  },
  {
   "cell_type": "markdown",
   "id": "585a6d42",
   "metadata": {},
   "source": [
    "### 1. Strings\n"
   ]
  },
  {
   "cell_type": "code",
   "execution_count": null,
   "id": "cc11431d",
   "metadata": {},
   "outputs": [],
   "source": [
    "name = \"BlockcHain\""
   ]
  },
  {
   "cell_type": "markdown",
   "id": "4c182673",
   "metadata": {},
   "source": [
    "#### Common Methods and Functions in Strings"
   ]
  },
  {
   "cell_type": "code",
   "execution_count": null,
   "id": "090b3f53",
   "metadata": {},
   "outputs": [
    {
     "data": {
      "text/plain": [
       "10"
      ]
     },
     "execution_count": 2,
     "metadata": {},
     "output_type": "execute_result"
    }
   ],
   "source": [
    "len(name)"
   ]
  },
  {
   "cell_type": "code",
   "execution_count": null,
   "id": "9d22600b",
   "metadata": {},
   "outputs": [
    {
     "data": {
      "text/plain": [
       "'blockchain'"
      ]
     },
     "execution_count": 4,
     "metadata": {},
     "output_type": "execute_result"
    }
   ],
   "source": [
    "name.lower() "
   ]
  },
  {
   "cell_type": "code",
   "execution_count": null,
   "id": "adb141e5",
   "metadata": {},
   "outputs": [
    {
     "data": {
      "text/plain": [
       "'BLOCKCHAIN'"
      ]
     },
     "execution_count": 5,
     "metadata": {},
     "output_type": "execute_result"
    }
   ],
   "source": [
    "name.upper()"
   ]
  },
  {
   "cell_type": "code",
   "execution_count": null,
   "id": "6d4a18f3",
   "metadata": {},
   "outputs": [
    {
     "name": "stdout",
     "output_type": "stream",
     "text": [
      " blockchain\n"
     ]
    }
   ],
   "source": [
    "space = ' blockchain'\n",
    "space.strip()"
   ]
  },
  {
   "cell_type": "code",
   "execution_count": null,
   "id": "e745d4a1",
   "metadata": {},
   "outputs": [],
   "source": [
    "change = 'blockchain'\n",
    "new_change = change.replace('blockchain', 'crypto')"
   ]
  },
  {
   "cell_type": "code",
   "execution_count": null,
   "id": "4c881e6a",
   "metadata": {},
   "outputs": [
    {
     "name": "stdout",
     "output_type": "stream",
     "text": [
      "blockchain new crypto\n"
     ]
    }
   ],
   "source": [
    "print(change, 'new', new_change)"
   ]
  },
  {
   "cell_type": "code",
   "execution_count": null,
   "id": "fe133101",
   "metadata": {},
   "outputs": [],
   "source": [
    "y = 'blockchain, crypto, asset, price'\n",
    "y=y.split(\",\")"
   ]
  },
  {
   "cell_type": "code",
   "execution_count": null,
   "id": "a8ffca43",
   "metadata": {},
   "outputs": [
    {
     "data": {
      "text/plain": [
       "True"
      ]
     },
     "execution_count": 21,
     "metadata": {},
     "output_type": "execute_result"
    }
   ],
   "source": [
    "a = 'cryptoAsset'\n",
    "'y' in a"
   ]
  },
  {
   "cell_type": "markdown",
   "id": "6d8d4db2",
   "metadata": {},
   "source": [
    "### 2. LIST()"
   ]
  },
  {
   "cell_type": "code",
   "execution_count": 2,
   "id": "1c86fd09",
   "metadata": {},
   "outputs": [
    {
     "data": {
      "text/plain": [
       "list"
      ]
     },
     "execution_count": 2,
     "metadata": {},
     "output_type": "execute_result"
    }
   ],
   "source": [
    "tokens = ['btc', 'eth', 'sol', 'ada']\n",
    "type(tokens)"
   ]
  },
  {
   "cell_type": "code",
   "execution_count": null,
   "id": "72597c03",
   "metadata": {},
   "outputs": [],
   "source": []
  },
  {
   "cell_type": "markdown",
   "id": "9010c040",
   "metadata": {},
   "source": [
    "### Common Methods and Functions in Strings"
   ]
  },
  {
   "cell_type": "code",
   "execution_count": null,
   "id": "0faca83e",
   "metadata": {},
   "outputs": [
    {
     "data": {
      "text/plain": [
       "4"
      ]
     },
     "execution_count": 25,
     "metadata": {},
     "output_type": "execute_result"
    }
   ],
   "source": [
    "len(tokens)"
   ]
  },
  {
   "cell_type": "code",
   "execution_count": null,
   "id": "8b6bd503",
   "metadata": {},
   "outputs": [],
   "source": [
    "tokens.append('TIA')\n",
    "tokens"
   ]
  },
  {
   "cell_type": "code",
   "execution_count": null,
   "id": "ca0de202",
   "metadata": {},
   "outputs": [],
   "source": [
    "# .insert adds to an index\n",
    "tokens.insert(2,'DOT')"
   ]
  },
  {
   "cell_type": "code",
   "execution_count": null,
   "id": "2e1d2cd7",
   "metadata": {},
   "outputs": [],
   "source": [
    "tokens.insert(4, 'GRASS')"
   ]
  },
  {
   "cell_type": "code",
   "execution_count": null,
   "id": "6e37d86e",
   "metadata": {},
   "outputs": [],
   "source": [
    "# .remove removes the first match\n",
    "tokens.append('sol')\n",
    "tokens.remove('sol')\n",
    "tokens"
   ]
  },
  {
   "cell_type": "code",
   "execution_count": null,
   "id": "73dc2891",
   "metadata": {},
   "outputs": [],
   "source": [
    "# .pop pop removes and return\n",
    "tokens.pop(4)"
   ]
  },
  {
   "cell_type": "code",
   "execution_count": null,
   "id": "d7f8f6f4",
   "metadata": {},
   "outputs": [
    {
     "data": {
      "text/plain": [
       "['ada', 'btc', 'eth', 'sol']"
      ]
     },
     "execution_count": 4,
     "metadata": {},
     "output_type": "execute_result"
    }
   ],
   "source": [
    "# .sort sorts a list in aphabetical order\n",
    "tokens.sort()\n",
    "tokens"
   ]
  },
  {
   "cell_type": "code",
   "execution_count": 5,
   "id": "1c932b62",
   "metadata": {},
   "outputs": [
    {
     "data": {
      "text/plain": [
       "['sol', 'eth', 'btc', 'ada']"
      ]
     },
     "execution_count": 5,
     "metadata": {},
     "output_type": "execute_result"
    }
   ],
   "source": [
    "# .reverse reverses the order\n",
    "tokens.reverse()\n",
    "tokens"
   ]
  },
  {
   "cell_type": "markdown",
   "id": "78aa91d3",
   "metadata": {},
   "source": [
    "#### Indexing and slicing"
   ]
  },
  {
   "cell_type": "code",
   "execution_count": 6,
   "id": "6a345c60",
   "metadata": {},
   "outputs": [],
   "source": [
    "z = tokens\n"
   ]
  },
  {
   "cell_type": "code",
   "execution_count": 7,
   "id": "3b827afd",
   "metadata": {},
   "outputs": [
    {
     "data": {
      "text/plain": [
       "'sol'"
      ]
     },
     "execution_count": 7,
     "metadata": {},
     "output_type": "execute_result"
    }
   ],
   "source": [
    "z[0] # fetch sol"
   ]
  },
  {
   "cell_type": "code",
   "execution_count": 12,
   "id": "ffdba793",
   "metadata": {},
   "outputs": [
    {
     "data": {
      "text/plain": [
       "['sol', 'eth', 'btc']"
      ]
     },
     "execution_count": 12,
     "metadata": {},
     "output_type": "execute_result"
    }
   ],
   "source": [
    "z[0:3] # this slice out only first three elements 0,1,2"
   ]
  },
  {
   "cell_type": "code",
   "execution_count": 14,
   "id": "9747398e",
   "metadata": {},
   "outputs": [
    {
     "data": {
      "text/plain": [
       "('eth', 'ada')"
      ]
     },
     "execution_count": 14,
     "metadata": {},
     "output_type": "execute_result"
    }
   ],
   "source": [
    "r = z[1],z[3]\n",
    "r"
   ]
  },
  {
   "cell_type": "markdown",
   "id": "6d267b01",
   "metadata": {},
   "source": [
    "## Dictionary\n",
    "This is an unordered, mutuable collection of key-value pair"
   ]
  },
  {
   "cell_type": "code",
   "execution_count": 18,
   "id": "79ff8db2",
   "metadata": {},
   "outputs": [
    {
     "data": {
      "text/plain": [
       "{'address': '0x41ac', 'balance': 500, 'is-active': True}"
      ]
     },
     "execution_count": 18,
     "metadata": {},
     "output_type": "execute_result"
    }
   ],
   "source": [
    "wallet = {\n",
    "    \"address\": '0x41ac',\n",
    "    \"balance\": 500,\n",
    "    \"is-active\": True\n",
    "}\n",
    "wallet"
   ]
  },
  {
   "cell_type": "markdown",
   "id": "c0c6b377",
   "metadata": {},
   "source": [
    "### Common methods in Dictionary"
   ]
  },
  {
   "cell_type": "code",
   "execution_count": 20,
   "id": "24298cbc",
   "metadata": {},
   "outputs": [
    {
     "data": {
      "text/plain": [
       "'0x41ac'"
      ]
     },
     "execution_count": 20,
     "metadata": {},
     "output_type": "execute_result"
    }
   ],
   "source": [
    "# dict[key] gets the value\n",
    "wallet[\"address\"]"
   ]
  },
  {
   "cell_type": "code",
   "execution_count": null,
   "id": "1b931c3c",
   "metadata": {},
   "outputs": [
    {
     "data": {
      "text/plain": [
       "500"
      ]
     },
     "execution_count": 21,
     "metadata": {},
     "output_type": "execute_result"
    }
   ],
   "source": [
    "# .get(key) ---> give access\n",
    "wallet.get(\"balance\")"
   ]
  },
  {
   "cell_type": "code",
   "execution_count": null,
   "id": "3a554a07",
   "metadata": {},
   "outputs": [
    {
     "data": {
      "text/plain": [
       "dict_keys(['address', 'balance', 'is-active'])"
      ]
     },
     "execution_count": 23,
     "metadata": {},
     "output_type": "execute_result"
    }
   ],
   "source": [
    "# .keys() gets all the keys\n",
    "wallet.keys()"
   ]
  },
  {
   "cell_type": "code",
   "execution_count": 24,
   "id": "4029beaa",
   "metadata": {},
   "outputs": [
    {
     "data": {
      "text/plain": [
       "dict_values(['0x41ac', 500, True])"
      ]
     },
     "execution_count": 24,
     "metadata": {},
     "output_type": "execute_result"
    }
   ],
   "source": [
    "# .values() gets all the dict value\n",
    "wallet.values()"
   ]
  },
  {
   "cell_type": "code",
   "execution_count": 25,
   "id": "850c4f6c",
   "metadata": {},
   "outputs": [
    {
     "data": {
      "text/plain": [
       "dict_items([('address', '0x41ac'), ('balance', 500), ('is-active', True)])"
      ]
     },
     "execution_count": 25,
     "metadata": {},
     "output_type": "execute_result"
    }
   ],
   "source": [
    "# .items() gets the key-value pair\n",
    "wallet.items()"
   ]
  },
  {
   "cell_type": "code",
   "execution_count": 27,
   "id": "bfe05dfa",
   "metadata": {},
   "outputs": [
    {
     "data": {
      "text/plain": [
       "{'address': '0x41ac', 'balance': 1000, 'is-active': True}"
      ]
     },
     "execution_count": 27,
     "metadata": {},
     "output_type": "execute_result"
    }
   ],
   "source": [
    "# .update() used to update the dictionary\n",
    "wallet.update({\"balance\": 1000})\n",
    "wallet"
   ]
  },
  {
   "cell_type": "code",
   "execution_count": null,
   "id": "ec5c2ac1",
   "metadata": {},
   "outputs": [
    {
     "data": {
      "text/plain": [
       "{'address': '0x41ac', 'balance': 1000, 'is-active': False}"
      ]
     },
     "execution_count": 29,
     "metadata": {},
     "output_type": "execute_result"
    }
   ],
   "source": [
    "wallet.update({\"is-active\" : False})\n",
    "wallet"
   ]
  },
  {
   "cell_type": "code",
   "execution_count": 30,
   "id": "f74881df",
   "metadata": {},
   "outputs": [
    {
     "data": {
      "text/plain": [
       "{'address': '0x41ac', 'balance': 1000}"
      ]
     },
     "execution_count": 30,
     "metadata": {},
     "output_type": "execute_result"
    }
   ],
   "source": [
    "# .pop() removes by key\n",
    "wallet.pop(\"is-active\")\n",
    "wallet"
   ]
  },
  {
   "cell_type": "markdown",
   "id": "0153fa24",
   "metadata": {},
   "source": [
    "## Tuple\n",
    "This is an ordered immutable collection of elements"
   ]
  },
  {
   "cell_type": "code",
   "execution_count": 5,
   "id": "11e7fc94",
   "metadata": {},
   "outputs": [],
   "source": [
    "block = ('BTC', 2025, 'halving', 'BTC' )"
   ]
  },
  {
   "cell_type": "markdown",
   "id": "40997c1c",
   "metadata": {},
   "source": [
    "### Common methods in Tuple"
   ]
  },
  {
   "cell_type": "code",
   "execution_count": 2,
   "id": "b461bad0",
   "metadata": {},
   "outputs": [
    {
     "data": {
      "text/plain": [
       "3"
      ]
     },
     "execution_count": 2,
     "metadata": {},
     "output_type": "execute_result"
    }
   ],
   "source": [
    "# Len ----> length of the tuple\n",
    "len(block)"
   ]
  },
  {
   "cell_type": "code",
   "execution_count": 6,
   "id": "c367a69b",
   "metadata": {},
   "outputs": [
    {
     "data": {
      "text/plain": [
       "2"
      ]
     },
     "execution_count": 6,
     "metadata": {},
     "output_type": "execute_result"
    }
   ],
   "source": [
    "# .count(x) ----> Counts occurencies\n",
    "block.count('BTC')"
   ]
  },
  {
   "cell_type": "code",
   "execution_count": 8,
   "id": "18b9873e",
   "metadata": {},
   "outputs": [
    {
     "data": {
      "text/plain": [
       "1"
      ]
     },
     "execution_count": 8,
     "metadata": {},
     "output_type": "execute_result"
    }
   ],
   "source": [
    "# .index(x) ----> Gets index of element\n",
    "block.index(2025)"
   ]
  },
  {
   "cell_type": "code",
   "execution_count": 9,
   "id": "9a636456",
   "metadata": {},
   "outputs": [
    {
     "data": {
      "text/plain": [
       "True"
      ]
     },
     "execution_count": 9,
     "metadata": {},
     "output_type": "execute_result"
    }
   ],
   "source": [
    "# in ----> checks for the membership\n",
    "'halving' in block"
   ]
  },
  {
   "cell_type": "markdown",
   "id": "087536e6",
   "metadata": {},
   "source": [
    "## Set\n",
    "Set is an unordered, uindexed, mutuable collection of unique element"
   ]
  },
  {
   "cell_type": "code",
   "execution_count": 11,
   "id": "85b98790",
   "metadata": {},
   "outputs": [],
   "source": [
    "wallet = {'0x41AC', '0xAA1B', '0x81AC'}"
   ]
  },
  {
   "cell_type": "markdown",
   "id": "41efc8ba",
   "metadata": {},
   "source": [
    "### Common methods in set"
   ]
  },
  {
   "cell_type": "code",
   "execution_count": null,
   "id": "5bc92a2b",
   "metadata": {},
   "outputs": [],
   "source": [
    "# .add(x) ----> used to add elements\n",
    "wallet.add('0x00A9')"
   ]
  },
  {
   "cell_type": "code",
   "execution_count": null,
   "id": "7e683e88",
   "metadata": {},
   "outputs": [],
   "source": []
  },
  {
   "cell_type": "code",
   "execution_count": null,
   "id": "260cdbcb",
   "metadata": {},
   "outputs": [],
   "source": [
    "# .remove(x) ----> removes elements (gives error if missing)\n",
    "wallet.remove('0x00A9')"
   ]
  },
  {
   "cell_type": "code",
   "execution_count": 15,
   "id": "5952077c",
   "metadata": {},
   "outputs": [],
   "source": [
    "# .discard(x) ----> removes elements (gives no error if missing)\n",
    "wallet.discard('3333') # no error\n",
    "wallet.discard('0x41AC')"
   ]
  },
  {
   "cell_type": "code",
   "execution_count": 16,
   "id": "8ffdf808",
   "metadata": {},
   "outputs": [
    {
     "data": {
      "text/plain": [
       "{'0x009', '0x233', '0x3A1', '0x433', '0xA12', '0xB11'}"
      ]
     },
     "execution_count": 16,
     "metadata": {},
     "output_type": "execute_result"
    }
   ],
   "source": [
    "# .union(set) ----> it combines sets\n",
    "wallet_a = {'0xA12', '0x233', '0x433'}\n",
    "wallet_b = {'0x3A1', '0x009', '0xB11'}\n",
    "wallet_a.union(wallet_b)"
   ]
  },
  {
   "cell_type": "code",
   "execution_count": 18,
   "id": "5f3dbcd0",
   "metadata": {},
   "outputs": [
    {
     "data": {
      "text/plain": [
       "{'0x433', '0xA12'}"
      ]
     },
     "execution_count": 18,
     "metadata": {},
     "output_type": "execute_result"
    }
   ],
   "source": [
    "# .intersection(set) ----> selects the comment element\n",
    "wallet_x = {'0xA12', '0x233', '0x433'}\n",
    "wallet_y = {'0xA12', '0x243', '0x433'}\n",
    "wallet_x.intersection(wallet_y)"
   ]
  },
  {
   "cell_type": "code",
   "execution_count": null,
   "id": "4893693f",
   "metadata": {},
   "outputs": [
    {
     "data": {
      "text/plain": [
       "{'0x243'}"
      ]
     },
     "execution_count": 19,
     "metadata": {},
     "output_type": "execute_result"
    }
   ],
   "source": [
    "# .difference(set) ---> checks difference\n",
    "wallet_y.difference(wallet_x)"
   ]
  },
  {
   "cell_type": "code",
   "execution_count": 20,
   "id": "1fedb497",
   "metadata": {},
   "outputs": [
    {
     "data": {
      "text/plain": [
       "True"
      ]
     },
     "execution_count": 20,
     "metadata": {},
     "output_type": "execute_result"
    }
   ],
   "source": [
    "# .in(set) ---> checks for membership\n",
    "'0xA12' in wallet_x\n"
   ]
  }
 ],
 "metadata": {
  "kernelspec": {
   "display_name": "pythonz",
   "language": "python",
   "name": "python3"
  },
  "language_info": {
   "codemirror_mode": {
    "name": "ipython",
    "version": 3
   },
   "file_extension": ".py",
   "mimetype": "text/x-python",
   "name": "python",
   "nbconvert_exporter": "python",
   "pygments_lexer": "ipython3",
   "version": "3.10.7"
  }
 },
 "nbformat": 4,
 "nbformat_minor": 5
}
