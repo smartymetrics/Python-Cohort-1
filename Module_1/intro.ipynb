{
 "cells": [
  {
   "cell_type": "code",
   "execution_count": null,
   "id": "8ffbc341",
   "metadata": {},
   "outputs": [
    {
     "name": "stdout",
     "output_type": "stream",
     "text": [
      "8\n"
     ]
    }
   ],
   "source": [
    "a = 6\n",
    "c = 2\n",
    "\n",
    "b = a + c\n",
    "print(b)\n"
   ]
  },
  {
   "cell_type": "markdown",
   "id": "04a9e874",
   "metadata": {},
   "source": [
    "## f string"
   ]
  },
  {
   "cell_type": "code",
   "execution_count": 4,
   "id": "20278550",
   "metadata": {},
   "outputs": [
    {
     "name": "stdout",
     "output_type": "stream",
     "text": [
      "i am 8 years old\n"
     ]
    }
   ],
   "source": [
    "print(f'i am {b} years old')"
   ]
  },
  {
   "cell_type": "code",
   "execution_count": 7,
   "id": "94687e04",
   "metadata": {},
   "outputs": [
    {
     "name": "stdout",
     "output_type": "stream",
     "text": [
      "hello Alice!\n"
     ]
    }
   ],
   "source": [
    "name = 'Alice'\n",
    "print(f'hello {name}!')"
   ]
  },
  {
   "cell_type": "markdown",
   "id": "8d28f736",
   "metadata": {},
   "source": [
    "## input"
   ]
  },
  {
   "cell_type": "code",
   "execution_count": 8,
   "id": "f24af369",
   "metadata": {},
   "outputs": [
    {
     "name": "stdout",
     "output_type": "stream",
     "text": [
      "my favourite asset is akudo\n"
     ]
    }
   ],
   "source": [
    "crypto = input('Enter you favourite asset')\n",
    "print('my favourite asset is ' + crypto)"
   ]
  },
  {
   "cell_type": "code",
   "execution_count": 10,
   "id": "62742658",
   "metadata": {},
   "outputs": [
    {
     "name": "stdout",
     "output_type": "stream",
     "text": [
      "You are 3 years old\n"
     ]
    }
   ],
   "source": [
    "age = int(input('Enter your age')) # get age as a non-decimal number\n",
    "print(f'You are {age} years old')"
   ]
  },
  {
   "cell_type": "markdown",
   "id": "f8dfbfb6",
   "metadata": {},
   "source": [
    "## variable\n",
    "\n",
    "#### Naming Rules:\n",
    "Start with a letter or _ (not a number).<br>\n",
    "Can contain letters, numbers, or _ (no spaces or symbols).<br>\n",
    "Case-sensitive (Name ≠ name).<br>\n",
    "Avoid Python keywords (e.g., don’t name a variable print).<br>\n"
   ]
  },
  {
   "cell_type": "code",
   "execution_count": 12,
   "id": "23b77cf6",
   "metadata": {},
   "outputs": [
    {
     "name": "stdout",
     "output_type": "stream",
     "text": [
      "International\n"
     ]
    }
   ],
   "source": [
    "name = 'Inter'\n",
    "Name = 'national'\n",
    "print(name + Name)"
   ]
  }
 ],
 "metadata": {
  "kernelspec": {
   "display_name": "pythonz",
   "language": "python",
   "name": "python3"
  },
  "language_info": {
   "codemirror_mode": {
    "name": "ipython",
    "version": 3
   },
   "file_extension": ".py",
   "mimetype": "text/x-python",
   "name": "python",
   "nbconvert_exporter": "python",
   "pygments_lexer": "ipython3",
   "version": "3.10.7"
  }
 },
 "nbformat": 4,
 "nbformat_minor": 5
}
