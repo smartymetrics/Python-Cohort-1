{
 "cells": [
  {
   "cell_type": "markdown",
   "id": "45cb17bc",
   "metadata": {},
   "source": [
    "# Nested Data Structure\n",
    "These are combination of data structures"
   ]
  },
  {
   "cell_type": "markdown",
   "id": "50a2160f",
   "metadata": {},
   "source": [
    "## List of list (2D List)"
   ]
  },
  {
   "cell_type": "code",
   "execution_count": 5,
   "id": "af4fb1f2",
   "metadata": {},
   "outputs": [
    {
     "name": "stdout",
     "output_type": "stream",
     "text": [
      "5\n",
      "9\n",
      "3\n"
     ]
    }
   ],
   "source": [
    "matrix = [\n",
    "    [1,2,3],\n",
    "    [4,5,6],\n",
    "    [7,8,9]\n",
    "]\n",
    "\n",
    "print(matrix[1][1]);\n",
    "\n",
    "print(matrix[2][2]);\n",
    "print(matrix[0][2])"
   ]
  },
  {
   "cell_type": "markdown",
   "id": "b10674ff",
   "metadata": {},
   "source": [
    "## List of Dictionaries"
   ]
  },
  {
   "cell_type": "code",
   "execution_count": 8,
   "id": "7ea20a8d",
   "metadata": {},
   "outputs": [
    {
     "name": "stdout",
     "output_type": "stream",
     "text": [
      "Divine\n"
     ]
    }
   ],
   "source": [
    "users = [\n",
    "    {'name':'Maryam', 'wallet':'0xADF'},\n",
    "    {'name': 'Bob', 'wallet':'0xJGH'},\n",
    "    {'name': 'Rotimi', 'wallet':'0xKKH'},\n",
    "    {'name': 'Mario', 'wallet':'0xEWH'},\n",
    "    {'name': 'Divine', 'wallet':'0xHFH'},\n",
    "    {'name': 'Wale', 'wallet':'0xJGH'}\n",
    "]\n",
    "print(users[4]['name'])"
   ]
  },
  {
   "cell_type": "markdown",
   "id": "68b96ce9",
   "metadata": {},
   "source": [
    "## Dictionary of Lists"
   ]
  },
  {
   "cell_type": "code",
   "execution_count": 11,
   "id": "79f39a5e",
   "metadata": {},
   "outputs": [
    {
     "name": "stdout",
     "output_type": "stream",
     "text": [
      "TIA\n"
     ]
    }
   ],
   "source": [
    "wallets = {\n",
    "    '0xADC': ['ETH', 'BTC', 'SOL'],\n",
    "    '0xGRT': ['BTC', 'ADA', 'UNI'],\n",
    "    '0xAED': ['ADA', 'BTC', 'SOL'],\n",
    "    '0xJGG': ['BTC', 'TIA', 'UNI'],\n",
    "    '0xKIT': ['ETH', 'BTC', 'CELE'],\n",
    "    '0xETU': ['ATOM', 'ADA', 'UNI']\n",
    "}\n",
    "print(wallets['0xJGG'][1])"
   ]
  },
  {
   "cell_type": "markdown",
   "id": "c0811185",
   "metadata": {},
   "source": [
    "## Nested Dictionaries"
   ]
  },
  {
   "cell_type": "code",
   "execution_count": 14,
   "id": "e503a5a1",
   "metadata": {},
   "outputs": [
    {
     "name": "stdout",
     "output_type": "stream",
     "text": [
      "3000\n"
     ]
    }
   ],
   "source": [
    "users_profile = {\n",
    "    '0xB1W': {'name': 'Alice', 'balance': 3000},\n",
    "    '0x00A': {'name': 'Bob', 'balance': 50.5}\n",
    "}\n",
    "print(users_profile['0xB1W']['balance'])"
   ]
  },
  {
   "cell_type": "code",
   "execution_count": 15,
   "id": "2122f57f",
   "metadata": {},
   "outputs": [
    {
     "name": "stdout",
     "output_type": "stream",
     "text": [
      "0xABC\n"
     ]
    }
   ],
   "source": [
    "transactions = [\n",
    "    {\"tx_id\": \"0x1\", \"from\": \"0xABC\", \"to\": \"0xDEF\", \"amount\": 100},\n",
    "    {\"tx_id\": \"0x2\", \"from\": \"0xDEF\", \"to\": \"0x123\", \"amount\": 200}\n",
    "]\n",
    "print(transactions[0]['from'])"
   ]
  }
 ],
 "metadata": {
  "kernelspec": {
   "display_name": "pythonz",
   "language": "python",
   "name": "python3"
  },
  "language_info": {
   "codemirror_mode": {
    "name": "ipython",
    "version": 3
   },
   "file_extension": ".py",
   "mimetype": "text/x-python",
   "name": "python",
   "nbconvert_exporter": "python",
   "pygments_lexer": "ipython3",
   "version": "3.10.7"
  }
 },
 "nbformat": 4,
 "nbformat_minor": 5
}
