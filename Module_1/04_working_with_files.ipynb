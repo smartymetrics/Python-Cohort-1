{
 "cells": [
  {
   "cell_type": "markdown",
   "id": "c5600f42",
   "metadata": {},
   "source": [
    "# Working with Files (CSV, JSON)\n",
    "Reading and Writing Text Files\n",
    "What it is: Storing and retrieving data from file on your computer.\n",
    "\n",
    "### Basic Operations:\n",
    "op('file.txt) - Opens a file (needs to be closed after).\n",
    "with open"
   ]
  },
  {
   "cell_type": "code",
   "execution_count": 3,
   "id": "1b37fb13",
   "metadata": {},
   "outputs": [
    {
     "name": "stdout",
     "output_type": "stream",
     "text": [
      "atcdtfajokeaojyqdnvaxdccywqehyozohqfnsjrgvqpnbsguqgpvyfggonhvyqkbzbbuioyqyphojjbvexnyrpbykukcxdvpzjqnpqkivfvppxnblsaghppnpdkiroxwacphzejxwwddahhruaelygzhaaiaheklnlslryohmeovczqccbttzdhyxhjelfggypqodrpqgukwhkmkitmkxarwkbefbvwsqjgmbtfakhvvaphmuwugmxtnllzwufavwivxuebzjxyvqevdhfpdgzexziuhokvqlbynfadathvmemeqdehdamyqvqjunziynzfhucycdbeiupufwmwxewuihfsutlhuvoczczdlzyeskqnqmbfpqzsytlfmhmaggrhjjineumhonycnyvtwjttxrkystwvmwzddvrzdxjcffyasproyqssyhwptbfbtogrymydzlvvzvkyribllbjvdbxpljzpjngqxsisrvfijpxzwqixopzmpydluxnmyyuvuhtygczariltpfnqchngwijgkrwhodmzidirtoasrkhzdveistcwbszpegwwbjotmdcdcmjtselzkguvrqddqruaptkfpemyxmvlxplocbfdrsxdspbhmufiookiyigbrmoijvdmfjqicbmpvuvenngycchwjlhxkqtsdjhkapzvkikuucwfjrqupyuwpjaxubtjyudogdjrhnxyqerxrxudzilzzgfxhxweeqtkhzpivtjlzrutvtbsckevbbcjtsygrboufvshooxptnikxytbiqcloipdmtsgayrlliurkeydiehtzgzpivhefnuriipehvylqvezcazabosftnjjotgcfkjqdkdecncvmxanipjngezfsxdsbnxqzdgfvayojqnokbckibayxcakejowycsgpmqowypptbhynplwqykyuejkjxcuxmqatjkoqrlxzxcgfyquvuszibbswnatkeyiremlgcblpijmxknmnkuvnoqtmzeqvcpjlimghppenuglpvhxyqhvyvqulhxymkatmyvhfmegjjabzhuujmalgrwyknhvpsrnocxerdlzezdnkznalgrwgctccmwzxbezqosjbswycwyhjlnyxyhbmcjcobtzssdcwbglqavrmqagvwisljmqrqciyutdmvkenwzwunpzebfytxumjtaxenpzazhdcctppsmzisewbghlgmpuwkkjkfpytsmyhmrxhikybahxwuxbbxlmbaevokszqibfjzfzwmpknfjhlrjpkeuwijorkymzngliyofnjkgaxosszfdinpjpcdhenomslbxwkbwybczorrlkkkgzaugtgtaqkzdvjzhpgatvabowaahfquoqlvsbqnpssciliscwknknmwfwjofvajjidjyojdokvxmhvgcigeeyhkmgfjylyakuhyaojkfdtzvsdxtbvnvnjrycsqddwybzodrjdacthaexllgfwscvgbogvbnxrirqmfijuzyyqcotonmroaouhnmpcddkokaixgrdetnlqpovmhytexatlpiwervpdelufkzrazwhdffoezeywogatsjrbyhtlcmaektkygkftzzeoezpvdpyorxppbejnvoemmhcdbddwnmfgrwpjieilvcpdoycygtlsnqtnxzkafjwdvnhpzqqoxwldolbadrckfogsezoqgbkzosrjajhpqohoykjjwdplapjiqsgactgfxvuzmfqkrmioqswienusetzzealvkjmdrbdvlayriqopgdltopkqhrnzlleyxngeqdzotcdyiszmqihodjcqmsvjqsighuhlizrzzusxklybzqndphpltdcqymkxrpzztxvnvlnroqzrxbzhtpfafbnupqendoegfyutptatwteabghlvpptmuqemfmqvtfgmogwofltskqdytphocbgmkazgzdzivnpzvjgxavsmfxypkhvihuaxatuworxhvsgyajeqjqujyzsiwzgzvbvxuafsbpeukjpgspnpzopnljynvvgbyfulmekhrapxsxfobuyzzvluwicgiyiwfmgcyljpqjrpnxuepjobcutnoyamcwtabsvnxjjehsivzvxfbjpxohdzewmynjbpvauzvtmjtdjxifnumvcsaikcyktoygpruetuntprhrmfvcjznujjkzvduvumnlddstcumvxehusfltarwvtbljalipmfmzuhsolzeosmfiwwgegsypbdaafuveztukaxzbecssrhlsovotmyrndbcznnxfimsatpmyunqbjftcnifyzharrpijmyqtsqmzxyusgpscrqmdowrhhsgzhivmionmqawcvjlbkzfxxhdnmggqdevxwddqlienskmkdphrabwvlwjgsoqsryonlixhelwjyoppxomyorgryinbnlwmmvmlgobzdtbjxbggssznxwiojmvhkfaqrpjqruacyydcanemhwbnidxdirwpfulyhalxguvzkwfqpviibftcctiutiaaxhtiibejwhnpmufdxzahwyfblsuwwsugmzqquascujrslltvgqtbwmuxyxthxebyzqmwgdvbdkqatbibnwkgnuiqggkfaqqvmytmrynsnufpowegjzzmwxzffwfeuvfxztyvlcuerrattfatgzvyemlrzbqssqbrtqhqxmuvfrsdsruwtunghrkorrpejqaahjpztioihrhehafbbfoepdkiwxafjxwcfmujsbfnkpuqmhzpqkequuxmchggvnyyaomqyiubtnqagekfpgrgjdwhdhillvlygxygfioxfwvbkwyrdpjhzhwrwbcuhdnmnwizkrwzkqcrvgawtigfbfmgbvstawohbxfhzzlahxnxfltnfxtmzvqgjpwjzpukqhnbssaogahvypmsznozcsetvhhroymkrcuzkjvutxsdcdujfuheewrmpeieezsqhzmcrrodlkzuspwzcusolvlyyomkrtgenkvnykysrasksrzyewluffjdmrftxodjwuapoeilfqywkaoflrgdcfaeebgxtdtdlqffepwfdliavdhpirqavwhlbpqmqozygcvjfejfllyfhpoffmlfnlcnrevhedjnqstveholowqgfjizwsjfsdgmbpjcfbrfigdhbjiovvyhpveiqkvdekipnfvyjnrqedfupvsaarpptqllwenebelubbdwkurteanpdsagfckwxvdwiopkvivedjnyrmqvkrtdzrnmaffjxpinwsqrelxlnzdprkadazbtdatlikfsyrczeitmumaabbxtbcyulxtiobblihmhmjlhjkcqbdzgrafnsurhfbtncshtblrfjaycondumctuaehdzimxaxffjsfjjwvwxtpmrkawyngybszszsupupkwlprgtetxhdzfszjntqmwefodebhwnlohdafrroofjbynvuggqmfjtsszmrfnxgzkvxmqkjevgoqsgnkbbsqwajjcudygyrtljrgkiveswsgjxacrcgykvuiolsybdkcwtwjvjmesaagpgqrxhxkbamzlnuxugzcyhschzsmrgwzsugkreehxcupmgqecpajowvrwdpirslxwafdtvuwkhufaargpkyhszhwnzkghxybwwuzwxsjsabiwjyemdadqddditzfiavevgaoymzlluivfvsurrhksrzloagokwuhvixqwfqcdtnjzdarppiagjahezewughqhmvdywqyrhlkefqwmrjqycadzwaexmwvqarccukswrgpmhshmuklcifkfydhhldoahqnkegbqjgphssovalgcueroczxlhyblvxcqwtkfjweuycilaznagoapwwdpxkwtlpdfscvnwljlwcpgsiqmpcmvoravmzypcgfjjvyhlzrhapdwzhufoivqimyotwjiwxzxcpsvqtisafabfxntqpcqbnixzqjjtquviqaqsrzhwhsmedegwwadpqsixfvdzoonmiirnnftegwpaparcgxykvruflumjccxprdyvxmgdfzverqpzflqeqrgiomkqgzguqawlrilvpczbvreeuegagkguacuevnlorugytmmmjadtgwwbmelnqztiizhnmfhuxofvfowrqdmudhrijpshjtxwupdjnrpplklgqgpwkbbqossoxavowvrfyibskyiqsiojbictxvrjzmxzdijdahkbfkkhhzggslpqzpwynbzepcmljnprvsceymqkoqslgufkgmkkojoqqkkmradvbojqwuwhqagtykgxcgdtiyjfgpfxkdknxvzuvvxydczlhzrkcqxrlsxkehweehstlmlmczxzwqdlcywpyevfughlimevjcqgpuuckxvllflbidkkofqiblxtegkzpalcolqhbbfxmgkxpofikzomkuifvwtdxcokugiacimwazqzzbojuypdkawhwwrihdrwwameicgrpolddectcbedsihdevgesqincygoncxtlcoxqrnpevrkdusiotcvjlpcryuzsxzbhisqhikqsmjmgazfazzrsinmegrmempovbpwxbxzxmlrwyopyjxtrflznibxdqokptqsiezpoggulndmyqctqqcpucyljpalbbxxbjpgunqlejppemsbwfuforwkmiizuvefhznhfkrsukfmopljrrekzrdlrtgsitvhcpfucwotvfdvrhlwzxzdzlsaugedajrkulcbkkmqczcgmvkpdqrjhdpjaexraotlcdthburrfyhtoyuhbpuieilyfdfnveygnxkkdmoigwftkpmkrrggzjqbcxbxprcotpmyjpjekkcibirifwhbwdrbryiplxoqznnspwjnrzrvyybmjdnmycrfkpbrlyuvtcmrxvjjlhtqretugherabmukqrfmwlrgcwfcxzstfmhrrkxohuvidxemgyudrrupbvevlcbemjcxpvfnpzgmfenzhyjppcvshbmxnbdgkyrpadovucxoflusgsrvrvijedqqenjxavxzmsvlxlahitawhodbgugmflckssqosxltlftrdrwtme\n"
     ]
    }
   ],
   "source": [
    "# Working with files in python (Reading mode)\n",
    "with open('sample3.txt', 'r') as file: # Opens the file in the read mode\n",
    "    content = file.read() # Read the entire content in the file\n",
    "    print(content)"
   ]
  },
  {
   "cell_type": "code",
   "execution_count": 4,
   "id": "f71af944",
   "metadata": {},
   "outputs": [],
   "source": [
    "# Working with file in read mode\n",
    "\n",
    "with open('sample3.txt', 'w') as file: # Opens file in the write mode\n",
    "    file.write(\"Hello World!\\n\")\n",
    "    file.write(\"This is a text file\\n\")\n"
   ]
  },
  {
   "cell_type": "code",
   "execution_count": 6,
   "id": "31e398b8",
   "metadata": {},
   "outputs": [],
   "source": [
    "# Append files\n",
    "with open('sample3.txt', 'a') as file:\n",
    "    file.write(\"Appending a new line.\\n\") # Append a new line to the file\n",
    "    file.write(\"This is another appended line \\n\")"
   ]
  },
  {
   "cell_type": "code",
   "execution_count": 7,
   "id": "d43c063a",
   "metadata": {},
   "outputs": [
    {
     "name": "stdout",
     "output_type": "stream",
     "text": [
      "Current content of the file\n",
      "Hello World!\n",
      "This is a text file\n",
      "Appending a new line.\n",
      "Appending a new line.\n",
      "This is another appended line \n",
      "\n"
     ]
    }
   ],
   "source": [
    "# Working with files in python (Read and write Mode)\n",
    "with open(\"sample3.txt\", 'r+') as file:\n",
    "    content = file.read()\n",
    "    print(\"Current content of the file\")\n",
    "    print(content)\n",
    "\n",
    "    file.write(\"Adding more content.\\n\")"
   ]
  },
  {
   "cell_type": "markdown",
   "id": "d922b9fc",
   "metadata": {},
   "source": [
    "## Working with CSV Files\n",
    "\n",
    "- CSV: Comma-Separated Values (like simple Excel files).\n",
    "- csv module:\n",
    "- csv.writer() - Writes data to CSV.\n",
    "- csv.reader() - Reads CSV rows as lists.\n",
    "- csv.DictReader() - Reads rows as dictioanries"
   ]
  },
  {
   "cell_type": "code",
   "execution_count": 11,
   "id": "e0aa6d75",
   "metadata": {},
   "outputs": [],
   "source": [
    "# Working with CSV files\n",
    "\n",
    "import csv\n",
    "\n",
    "with open('data.csv', 'w', newline='') as csvfile: # Open file in write mode\n",
    "    writer = csv.writer(csvfile)                        # Ceate the csv writer object\n",
    "    writer.writerow(['name', 'age', 'city'])            # Write Header Row\n",
    "    writer.writerow(['alice', 30, 'New York'])          # Write data row        \n",
    "    writer.writerow(['Bob', 25, 'Los Angeles'])           # Writer another data row"
   ]
  },
  {
   "cell_type": "code",
   "execution_count": 12,
   "id": "e267b67e",
   "metadata": {},
   "outputs": [
    {
     "name": "stdout",
     "output_type": "stream",
     "text": [
      "['name', 'age', 'city']\n",
      "['alice', '30', 'New York']\n",
      "['Bob', '25', 'Los Angeles']\n"
     ]
    }
   ],
   "source": [
    "# Working with CSV files\n",
    "import csv\n",
    "\n",
    "with open('data.csv', 'r') as csvfile: # Open file in read mode\n",
    "    reader = csv.reader(csvfile) # Create a csv reader object\n",
    "    for row in reader:          # Iterate through each row in the csv file\n",
    "        print(row)"
   ]
  },
  {
   "cell_type": "code",
   "execution_count": 13,
   "id": "48cafbf4",
   "metadata": {},
   "outputs": [
    {
     "name": "stdout",
     "output_type": "stream",
     "text": [
      "{'name': 'alice', 'age': '30', 'city': 'New York'}\n",
      "{'name': 'Bob', 'age': '25', 'city': 'Los Angeles'}\n"
     ]
    }
   ],
   "source": [
    "# Working with CSV file\n",
    "\n",
    "# DictReader for reading csv files\n",
    "\n",
    "with open('data.csv', 'r') as csvfile:\n",
    "    reader = csv.DictReader(csvfile)\n",
    "    for row in reader:\n",
    "        print(row)"
   ]
  },
  {
   "cell_type": "markdown",
   "id": "c4cf65be",
   "metadata": {},
   "source": [
    "## Handling JSON data\n",
    "\n",
    "JSON: Format for string and exhcnaging data (like Python dictionaries).\n",
    "json module:\n",
    "- json.dump() - writes JSON to file.\n",
    "- json.load() - Reads JSON from file\n",
    "- json.loads() Reads JSON from string.\n",
    "- json.dumps() -C"
   ]
  },
  {
   "cell_type": "code",
   "execution_count": 2,
   "id": "d854f01d",
   "metadata": {},
   "outputs": [],
   "source": [
    "import json"
   ]
  },
  {
   "cell_type": "code",
   "execution_count": 16,
   "id": "80968070",
   "metadata": {},
   "outputs": [],
   "source": [
    "# Write json file\n",
    "\n",
    "data = {\n",
    "    'name': 'Alice',\n",
    "    'age': 30,\n",
    "    'city': 'New York'\n",
    "}\n",
    "\n",
    "with open('data.json', 'w') as jsonfile:\n",
    "    json.dump(data, jsonfile, indent=4) # Write json data to the file with indentation"
   ]
  },
  {
   "cell_type": "code",
   "execution_count": 17,
   "id": "38555cde",
   "metadata": {},
   "outputs": [
    {
     "name": "stdout",
     "output_type": "stream",
     "text": [
      "{'name': 'Alice', 'age': 30, 'city': 'New York'}\n"
     ]
    }
   ],
   "source": [
    "# Readin from json file\n",
    "\n",
    "with open('data.json', 'r') as jsonfile:\n",
    "    data = json.load(jsonfile)\n",
    "    print(data)"
   ]
  },
  {
   "cell_type": "code",
   "execution_count": 19,
   "id": "00f5ca4d",
   "metadata": {},
   "outputs": [
    {
     "name": "stdout",
     "output_type": "stream",
     "text": [
      "{'name': 'Alice', 'age': 30, 'city': 'New York'}\n"
     ]
    }
   ],
   "source": [
    "json_string = '{\"name\": \"Alice\", \"age\": 30, \"city\": \"New York\"}'\n",
    "data = json.loads(json_string) # Parse json string into python dictionary\n",
    "print(data)\n"
   ]
  },
  {
   "cell_type": "code",
   "execution_count": 3,
   "id": "8f8dc393",
   "metadata": {},
   "outputs": [
    {
     "name": "stdout",
     "output_type": "stream",
     "text": [
      "{\n",
      "    \"name\": \"Alice\",\n",
      "    \"age\": 30,\n",
      "    \"city\": \"New York\"\n",
      "}\n"
     ]
    }
   ],
   "source": [
    "# Use dump to convert python object to json string\n",
    "\n",
    "data = {\n",
    "    'name': 'Alice', \n",
    "    'age': 30, \n",
    "    'city': 'New York'\n",
    "}\n",
    "\n",
    "json_string = json.dumps(data, indent=4)\n",
    "print(json_string)"
   ]
  }
 ],
 "metadata": {
  "kernelspec": {
   "display_name": "pythonz",
   "language": "python",
   "name": "python3"
  },
  "language_info": {
   "codemirror_mode": {
    "name": "ipython",
    "version": 3
   },
   "file_extension": ".py",
   "mimetype": "text/x-python",
   "name": "python",
   "nbconvert_exporter": "python",
   "pygments_lexer": "ipython3",
   "version": "3.10.7"
  }
 },
 "nbformat": 4,
 "nbformat_minor": 5
}
