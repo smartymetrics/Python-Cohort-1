{
 "cells": [
  {
   "cell_type": "markdown",
   "id": "64b984e6",
   "metadata": {},
   "source": [
    "\n",
    "# Data Manipulation with Pandas and NumPy\n",
    "\n",
    "Data manipulation is the process of changing, organizing, or transforming data to make it more useful, readable, or suitable for analysis. It involves tasks like cleaning, filtering, sorting, grouping, or calculating new values from existing data.\n",
    "\n",
    "Tools like Pandas and NumPy, popular Python libraries, are often used to streamline these tasks. Pandas excels at handling structured data, like tables of crypto trades, for filtering or grouping, while NumPy supports fast numerical computations, such as calculating average prices or returns.\n",
    "\n",
    "For instance, a crypto investor might manipulate data by filtering trades to show only Bitcoin transactions over $5,000, sorting them by timestamp to track price movements, and aggregating daily totals to assess trading volume. This helps uncover trends, optimize strategies, and ensure data accuracy, ultimately supporting better decisions in the fast-paced crypto market.\n",
    "\n",
    "## Pandas\n",
    "\n",
    "Pandas is a popular Python library used for working with data. It helps you load, clean, analyze, and manipulate data easily. Think of it like an Excel spreadsheet in Python! It’s great for handling tables of data.\n",
    "### Key Concepts\n",
    "\n",
    "Series: A single column of data (like a list with labels).\n",
    "\n",
    "Index: Labels for rows, helping you identify and access data.\n",
    "\n",
    "You can load data from files (CSV, Excel, etc.), manipulate it, and save it back.\n"
   ]
  },
  {
   "cell_type": "markdown",
   "id": "4127aa70",
   "metadata": {},
   "source": [
    "### Installing / Importing Pandas"
   ]
  },
  {
   "cell_type": "code",
   "execution_count": 1,
   "id": "fca6f490",
   "metadata": {},
   "outputs": [],
   "source": [
    "import pandas as pd\n"
   ]
  },
  {
   "cell_type": "markdown",
   "id": "69e5b944",
   "metadata": {},
   "source": [
    "\n",
    "# Create a DataFrame\n",
    "\n",
    "A DataFrame is like a table with rows and columns. Let’s create one with sample cryptocurrency data (e.g., coin names, prices, and trade volumes).\n"
   ]
  },
  {
   "cell_type": "code",
   "execution_count": 15,
   "id": "bc5caff9",
   "metadata": {},
   "outputs": [
    {
     "name": "stdout",
     "output_type": "stream",
     "text": [
      "       Coin     Price  Volume\n",
      "0   Bitcoin  45000.00   15000\n",
      "1  Ethereum   3000.00        \n",
      "2    Ripple      0.85  200000\n",
      "3  Litecoin    120.00   50000\n"
     ]
    }
   ],
   "source": [
    "# Create a dictionary with crypto data\n",
    "\n",
    "data = {\n",
    "    'Coin': ['Bitcoin', 'Ethereum', 'Ripple', 'Litecoin'],\n",
    "    'Price': [45000, 3000, 0.85, 120],\n",
    "    'Volume': [15000, ' ', 200000, 50000]\n",
    "}\n",
    "\n",
    "df = pd.DataFrame(data)\n",
    "print(df)"
   ]
  },
  {
   "cell_type": "markdown",
   "id": "db7c62eb",
   "metadata": {},
   "source": [
    "### Explore"
   ]
  },
  {
   "cell_type": "code",
   "execution_count": 16,
   "id": "e8e61560",
   "metadata": {},
   "outputs": [
    {
     "data": {
      "text/html": [
       "<div>\n",
       "<style scoped>\n",
       "    .dataframe tbody tr th:only-of-type {\n",
       "        vertical-align: middle;\n",
       "    }\n",
       "\n",
       "    .dataframe tbody tr th {\n",
       "        vertical-align: top;\n",
       "    }\n",
       "\n",
       "    .dataframe thead th {\n",
       "        text-align: right;\n",
       "    }\n",
       "</style>\n",
       "<table border=\"1\" class=\"dataframe\">\n",
       "  <thead>\n",
       "    <tr style=\"text-align: right;\">\n",
       "      <th></th>\n",
       "      <th>Coin</th>\n",
       "      <th>Price</th>\n",
       "      <th>Volume</th>\n",
       "    </tr>\n",
       "  </thead>\n",
       "  <tbody>\n",
       "    <tr>\n",
       "      <th>0</th>\n",
       "      <td>Bitcoin</td>\n",
       "      <td>45000.00</td>\n",
       "      <td>15000</td>\n",
       "    </tr>\n",
       "    <tr>\n",
       "      <th>1</th>\n",
       "      <td>Ethereum</td>\n",
       "      <td>3000.00</td>\n",
       "      <td></td>\n",
       "    </tr>\n",
       "    <tr>\n",
       "      <th>2</th>\n",
       "      <td>Ripple</td>\n",
       "      <td>0.85</td>\n",
       "      <td>200000</td>\n",
       "    </tr>\n",
       "    <tr>\n",
       "      <th>3</th>\n",
       "      <td>Litecoin</td>\n",
       "      <td>120.00</td>\n",
       "      <td>50000</td>\n",
       "    </tr>\n",
       "  </tbody>\n",
       "</table>\n",
       "</div>"
      ],
      "text/plain": [
       "       Coin     Price  Volume\n",
       "0   Bitcoin  45000.00   15000\n",
       "1  Ethereum   3000.00        \n",
       "2    Ripple      0.85  200000\n",
       "3  Litecoin    120.00   50000"
      ]
     },
     "execution_count": 16,
     "metadata": {},
     "output_type": "execute_result"
    }
   ],
   "source": [
    "df"
   ]
  },
  {
   "cell_type": "code",
   "execution_count": null,
   "id": "a7e55e5d",
   "metadata": {},
   "outputs": [
    {
     "name": "stdout",
     "output_type": "stream",
     "text": [
      "       Coin     Price  Volume\n",
      "0   Bitcoin  45000.00   15000\n",
      "1  Ethereum   3000.00        \n",
      "2    Ripple      0.85  200000\n",
      "3  Litecoin    120.00   50000\n"
     ]
    }
   ],
   "source": [
    "print(df.head(2))"
   ]
  },
  {
   "cell_type": "code",
   "execution_count": 19,
   "id": "6b9ac8e8",
   "metadata": {},
   "outputs": [
    {
     "name": "stdout",
     "output_type": "stream",
     "text": [
      "       Coin   Price  Volume\n",
      "2    Ripple    0.85  200000\n",
      "3  Litecoin  120.00   50000\n"
     ]
    }
   ],
   "source": [
    "print(df.tail(2))"
   ]
  },
  {
   "cell_type": "code",
   "execution_count": 20,
   "id": "d35b2f84",
   "metadata": {},
   "outputs": [
    {
     "data": {
      "text/html": [
       "<div>\n",
       "<style scoped>\n",
       "    .dataframe tbody tr th:only-of-type {\n",
       "        vertical-align: middle;\n",
       "    }\n",
       "\n",
       "    .dataframe tbody tr th {\n",
       "        vertical-align: top;\n",
       "    }\n",
       "\n",
       "    .dataframe thead th {\n",
       "        text-align: right;\n",
       "    }\n",
       "</style>\n",
       "<table border=\"1\" class=\"dataframe\">\n",
       "  <thead>\n",
       "    <tr style=\"text-align: right;\">\n",
       "      <th></th>\n",
       "      <th>Coin</th>\n",
       "      <th>Price</th>\n",
       "      <th>Volume</th>\n",
       "    </tr>\n",
       "  </thead>\n",
       "  <tbody>\n",
       "    <tr>\n",
       "      <th>0</th>\n",
       "      <td>Bitcoin</td>\n",
       "      <td>45000.00</td>\n",
       "      <td>15000</td>\n",
       "    </tr>\n",
       "    <tr>\n",
       "      <th>1</th>\n",
       "      <td>Ethereum</td>\n",
       "      <td>3000.00</td>\n",
       "      <td></td>\n",
       "    </tr>\n",
       "    <tr>\n",
       "      <th>2</th>\n",
       "      <td>Ripple</td>\n",
       "      <td>0.85</td>\n",
       "      <td>200000</td>\n",
       "    </tr>\n",
       "    <tr>\n",
       "      <th>3</th>\n",
       "      <td>Litecoin</td>\n",
       "      <td>120.00</td>\n",
       "      <td>50000</td>\n",
       "    </tr>\n",
       "  </tbody>\n",
       "</table>\n",
       "</div>"
      ],
      "text/plain": [
       "       Coin     Price  Volume\n",
       "0   Bitcoin  45000.00   15000\n",
       "1  Ethereum   3000.00        \n",
       "2    Ripple      0.85  200000\n",
       "3  Litecoin    120.00   50000"
      ]
     },
     "execution_count": 20,
     "metadata": {},
     "output_type": "execute_result"
    }
   ],
   "source": [
    "df.head()"
   ]
  },
  {
   "cell_type": "markdown",
   "id": "9c7997e7",
   "metadata": {},
   "source": [
    "## Get Info"
   ]
  },
  {
   "cell_type": "code",
   "execution_count": 23,
   "id": "564a0dcb",
   "metadata": {},
   "outputs": [
    {
     "name": "stdout",
     "output_type": "stream",
     "text": [
      "<class 'pandas.core.frame.DataFrame'>\n",
      "RangeIndex: 4 entries, 0 to 3\n",
      "Data columns (total 3 columns):\n",
      " #   Column  Non-Null Count  Dtype  \n",
      "---  ------  --------------  -----  \n",
      " 0   Coin    4 non-null      object \n",
      " 1   Price   4 non-null      float64\n",
      " 2   Volume  4 non-null      object \n",
      "dtypes: float64(1), object(2)\n",
      "memory usage: 224.0+ bytes\n",
      "None\n"
     ]
    }
   ],
   "source": [
    "print(df.info())"
   ]
  },
  {
   "cell_type": "markdown",
   "id": "c9385a09",
   "metadata": {},
   "source": [
    "### Basic Data Manipulation"
   ]
  },
  {
   "cell_type": "code",
   "execution_count": 26,
   "id": "dc6c7e57",
   "metadata": {},
   "outputs": [
    {
     "name": "stdout",
     "output_type": "stream",
     "text": [
      "       Coin     Price\n",
      "0   Bitcoin  45000.00\n",
      "1  Ethereum   3000.00\n",
      "2    Ripple      0.85\n",
      "3  Litecoin    120.00\n"
     ]
    }
   ],
   "source": [
    "# select a specific column\n",
    "\n",
    "print(df[['Coin', 'Price']])"
   ]
  },
  {
   "cell_type": "code",
   "execution_count": 27,
   "id": "25103190",
   "metadata": {},
   "outputs": [
    {
     "name": "stdout",
     "output_type": "stream",
     "text": [
      "       Coin    Price Volume\n",
      "0   Bitcoin  45000.0  15000\n",
      "1  Ethereum   3000.0       \n",
      "3  Litecoin    120.0  50000\n"
     ]
    }
   ],
   "source": [
    "print(df[df['Price'] > 100])"
   ]
  },
  {
   "cell_type": "markdown",
   "id": "e953c8a1",
   "metadata": {},
   "source": [
    "### Sort Data\n",
    "Sort by a column like Price in ascending or descending order"
   ]
  },
  {
   "cell_type": "code",
   "execution_count": 28,
   "id": "bd495b7f",
   "metadata": {},
   "outputs": [
    {
     "name": "stdout",
     "output_type": "stream",
     "text": [
      "       Coin     Price  Volume\n",
      "2    Ripple      0.85  200000\n",
      "3  Litecoin    120.00   50000\n",
      "1  Ethereum   3000.00        \n",
      "0   Bitcoin  45000.00   15000\n"
     ]
    }
   ],
   "source": [
    "print(df.sort_values('Price')) # ascending order"
   ]
  },
  {
   "cell_type": "code",
   "execution_count": 29,
   "id": "4d16c90a",
   "metadata": {},
   "outputs": [
    {
     "name": "stdout",
     "output_type": "stream",
     "text": [
      "       Coin     Price  Volume\n",
      "0   Bitcoin  45000.00   15000\n",
      "1  Ethereum   3000.00        \n",
      "3  Litecoin    120.00   50000\n",
      "2    Ripple      0.85  200000\n"
     ]
    }
   ],
   "source": [
    "print(df.sort_values('Price', ascending=False)) # Sort in descending order"
   ]
  },
  {
   "cell_type": "markdown",
   "id": "98f7b10d",
   "metadata": {},
   "source": [
    "### Add new column"
   ]
  },
  {
   "cell_type": "code",
   "execution_count": 31,
   "id": "e5b6f90e",
   "metadata": {},
   "outputs": [
    {
     "name": "stdout",
     "output_type": "stream",
     "text": [
      "       Coin     Price  Volume  Price_after_2pct\n",
      "0   Bitcoin  45000.00   15000         45900.000\n",
      "1  Ethereum   3000.00                  3060.000\n",
      "2    Ripple      0.85  200000             0.867\n",
      "3  Litecoin    120.00   50000           122.400\n"
     ]
    }
   ],
   "source": [
    "df['Price_after_2pct'] = df['Price'] * 1.02\n",
    "print(df)"
   ]
  },
  {
   "cell_type": "code",
   "execution_count": 32,
   "id": "2de324f0",
   "metadata": {},
   "outputs": [
    {
     "data": {
      "text/html": [
       "<div>\n",
       "<style scoped>\n",
       "    .dataframe tbody tr th:only-of-type {\n",
       "        vertical-align: middle;\n",
       "    }\n",
       "\n",
       "    .dataframe tbody tr th {\n",
       "        vertical-align: top;\n",
       "    }\n",
       "\n",
       "    .dataframe thead th {\n",
       "        text-align: right;\n",
       "    }\n",
       "</style>\n",
       "<table border=\"1\" class=\"dataframe\">\n",
       "  <thead>\n",
       "    <tr style=\"text-align: right;\">\n",
       "      <th></th>\n",
       "      <th>Price</th>\n",
       "      <th>Price_after_2pct</th>\n",
       "    </tr>\n",
       "  </thead>\n",
       "  <tbody>\n",
       "    <tr>\n",
       "      <th>count</th>\n",
       "      <td>4.000000</td>\n",
       "      <td>4.000000</td>\n",
       "    </tr>\n",
       "    <tr>\n",
       "      <th>mean</th>\n",
       "      <td>12030.212500</td>\n",
       "      <td>12270.816750</td>\n",
       "    </tr>\n",
       "    <tr>\n",
       "      <th>std</th>\n",
       "      <td>22023.550649</td>\n",
       "      <td>22464.021662</td>\n",
       "    </tr>\n",
       "    <tr>\n",
       "      <th>min</th>\n",
       "      <td>0.850000</td>\n",
       "      <td>0.867000</td>\n",
       "    </tr>\n",
       "    <tr>\n",
       "      <th>25%</th>\n",
       "      <td>90.212500</td>\n",
       "      <td>92.016750</td>\n",
       "    </tr>\n",
       "    <tr>\n",
       "      <th>50%</th>\n",
       "      <td>1560.000000</td>\n",
       "      <td>1591.200000</td>\n",
       "    </tr>\n",
       "    <tr>\n",
       "      <th>75%</th>\n",
       "      <td>13500.000000</td>\n",
       "      <td>13770.000000</td>\n",
       "    </tr>\n",
       "    <tr>\n",
       "      <th>max</th>\n",
       "      <td>45000.000000</td>\n",
       "      <td>45900.000000</td>\n",
       "    </tr>\n",
       "  </tbody>\n",
       "</table>\n",
       "</div>"
      ],
      "text/plain": [
       "              Price  Price_after_2pct\n",
       "count      4.000000          4.000000\n",
       "mean   12030.212500      12270.816750\n",
       "std    22023.550649      22464.021662\n",
       "min        0.850000          0.867000\n",
       "25%       90.212500         92.016750\n",
       "50%     1560.000000       1591.200000\n",
       "75%    13500.000000      13770.000000\n",
       "max    45000.000000      45900.000000"
      ]
     },
     "execution_count": 32,
     "metadata": {},
     "output_type": "execute_result"
    }
   ],
   "source": [
    "df.describe()"
   ]
  },
  {
   "cell_type": "code",
   "execution_count": 33,
   "id": "79e60287",
   "metadata": {},
   "outputs": [],
   "source": [
    "df.to_csv('crypto_data.csv', index=False)"
   ]
  },
  {
   "cell_type": "markdown",
   "id": "702da8b9",
   "metadata": {},
   "source": [
    "## Numpy\n",
    "NumPy is a powerful Python library for numerical computations, especially useful for working with arrays (lists of numbers) and performing fast mathematical operations. It’s a foundation for data manipulation, often used alongside Pandas, and is great for tasks like calculations, statistics, and handling crypto-related data. Below, I’ll walk you through the basics step by step—installing NumPy, creating arrays, and performing common operations with simple code. This is beginner-friendly and straightforward."
   ]
  },
  {
   "cell_type": "markdown",
   "id": "76449a34",
   "metadata": {},
   "source": [
    "#### Installing and Importing Numpy"
   ]
  },
  {
   "cell_type": "code",
   "execution_count": 1,
   "id": "72f22731",
   "metadata": {},
   "outputs": [],
   "source": [
    "import numpy as np"
   ]
  },
  {
   "cell_type": "markdown",
   "id": "cdaf9daa",
   "metadata": {},
   "source": [
    "### Create a Numpy Array\n",
    "A NumPy array is like a list but optimized for math and faster operations. Let’s create arrays with sample cryptocurrency data (e.g., coin prices and trade volumes)."
   ]
  },
  {
   "cell_type": "code",
   "execution_count": 34,
   "id": "122b4af8",
   "metadata": {},
   "outputs": [
    {
     "name": "stdout",
     "output_type": "stream",
     "text": [
      "[45000 50000 40000 20000]\n"
     ]
    }
   ],
   "source": [
    "prices = np.array([45000, 50000, 40000, 20000])\n",
    "print(prices)"
   ]
  },
  {
   "cell_type": "code",
   "execution_count": 35,
   "id": "d8d02acf",
   "metadata": {},
   "outputs": [
    {
     "name": "stdout",
     "output_type": "stream",
     "text": [
      "(4,)\n"
     ]
    }
   ],
   "source": [
    "print(prices.shape)"
   ]
  },
  {
   "cell_type": "code",
   "execution_count": 36,
   "id": "7ae08bd9",
   "metadata": {},
   "outputs": [
    {
     "name": "stdout",
     "output_type": "stream",
     "text": [
      "int64\n"
     ]
    }
   ],
   "source": [
    "# Get datatype\n",
    "print(prices.dtype)"
   ]
  },
  {
   "cell_type": "markdown",
   "id": "57151663",
   "metadata": {},
   "source": [
    "### Basic data manipulations"
   ]
  },
  {
   "cell_type": "code",
   "execution_count": 37,
   "id": "10e29434",
   "metadata": {},
   "outputs": [
    {
     "name": "stdout",
     "output_type": "stream",
     "text": [
      "[46000 51000 41000 21000]\n"
     ]
    }
   ],
   "source": [
    "# Add 100 to all prices\n",
    "\n",
    "prices = np.array([45000, 50000, 40000, 20000])\n",
    "\n",
    "prices_plus_1000 = prices + 1000\n",
    "print(prices_plus_1000)"
   ]
  },
  {
   "cell_type": "code",
   "execution_count": 38,
   "id": "4b42ff68",
   "metadata": {},
   "outputs": [
    {
     "name": "stdout",
     "output_type": "stream",
     "text": [
      "[45001.02 50001.02 40001.02 20001.02]\n"
     ]
    }
   ],
   "source": [
    "# Compute for 2% increase in price\n",
    "\n",
    "price_s = np.array([46000, 51000, 41000, 21000])\n",
    "\n",
    "price_increase = prices+ 1.02\n",
    "\n",
    "print(price_increase)"
   ]
  },
  {
   "cell_type": "code",
   "execution_count": 39,
   "id": "390ec37a",
   "metadata": {},
   "outputs": [
    {
     "name": "stdout",
     "output_type": "stream",
     "text": [
      "[46000 51000 41000 21000]\n"
     ]
    }
   ],
   "source": [
    "# filter data\n",
    "\n",
    "higher_price = price_s[price_s > 20000 ]\n",
    "print(higher_price)"
   ]
  },
  {
   "cell_type": "markdown",
   "id": "ca819c6a",
   "metadata": {},
   "source": [
    "## Basic Statiscal Functions"
   ]
  },
  {
   "cell_type": "code",
   "execution_count": 2,
   "id": "6df1717d",
   "metadata": {},
   "outputs": [
    {
     "name": "stdout",
     "output_type": "stream",
     "text": [
      "\n",
      " Statistics for volume: \n",
      "Mean (Average):  56666.666666666664\n",
      "Minimum:  20000\n",
      "Maximum:  100000\n",
      "Sum:  170000\n",
      "Volatility:  32998.316455372216\n"
     ]
    }
   ],
   "source": [
    "volume = np.array([50000, 20000, 100000])\n",
    "\n",
    "print('\\n Statistics for volume: ')\n",
    "\n",
    "print('Mean (Average): ', np.mean(volume))\n",
    "print('Minimum: ', np.min(volume))\n",
    "print('Maximum: ', np.max(volume))\n",
    "print('Sum: ', np.sum(volume))\n",
    "print('Volatility: ', np.std(volume))"
   ]
  },
  {
   "cell_type": "markdown",
   "id": "87c155f0",
   "metadata": {},
   "source": [
    "### Working with 2D Arrays\n"
   ]
  },
  {
   "cell_type": "code",
   "execution_count": 4,
   "id": "56eeb7bc",
   "metadata": {},
   "outputs": [
    {
     "name": "stdout",
     "output_type": "stream",
     "text": [
      "[[45000 50000]\n",
      " [30000 20000]\n",
      " [11900  8943]]\n"
     ]
    }
   ],
   "source": [
    "# create a 2D array\n",
    "\n",
    "crypto_data = np.array([\n",
    "    [45000, 50000],\n",
    "    [30000, 20000],\n",
    "    [11900, 8943]\n",
    "])\n",
    "\n",
    "print(crypto_data)"
   ]
  },
  {
   "cell_type": "code",
   "execution_count": 7,
   "id": "fce8555e",
   "metadata": {},
   "outputs": [
    {
     "data": {
      "text/plain": [
       "array([11900,  8943])"
      ]
     },
     "execution_count": 7,
     "metadata": {},
     "output_type": "execute_result"
    }
   ],
   "source": [
    "# Access Row\n",
    "crypto_data[2]"
   ]
  },
  {
   "cell_type": "code",
   "execution_count": 13,
   "id": "84d5df9e",
   "metadata": {},
   "outputs": [
    {
     "data": {
      "text/plain": [
       "array([45000, 30000, 11900])"
      ]
     },
     "execution_count": 13,
     "metadata": {},
     "output_type": "execute_result"
    }
   ],
   "source": [
    "# Access column\n",
    "crypto_data[:,0]"
   ]
  }
 ],
 "metadata": {
  "kernelspec": {
   "display_name": "pythonz",
   "language": "python",
   "name": "python3"
  },
  "language_info": {
   "codemirror_mode": {
    "name": "ipython",
    "version": 3
   },
   "file_extension": ".py",
   "mimetype": "text/x-python",
   "name": "python",
   "nbconvert_exporter": "python",
   "pygments_lexer": "ipython3",
   "version": "3.10.7"
  }
 },
 "nbformat": 4,
 "nbformat_minor": 5
}
