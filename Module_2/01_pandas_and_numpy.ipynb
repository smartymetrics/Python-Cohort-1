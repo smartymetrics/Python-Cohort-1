{
 "cells": [
  {
   "cell_type": "markdown",
   "id": "64b984e6",
   "metadata": {},
   "source": [
    "# Data Manipulation with Pandas And Numpy\n",
    "\n",
    "Data manipulation is the process of changing, organising or transfroming data to make it more useful, readable or suitable for analysis. It involves tasks like cleaning, filtering, sorting, grouping, or calculating new values from existing data.\n",
    "\n",
    "Panda handles structured data while numpy is for fast numerical computations.\n"
   ]
  },
  {
   "cell_type": "markdown",
   "id": "24b54ba0",
   "metadata": {},
   "source": [
    "# Pandas\n",
    "Series: A single column of data (like a list with label).\n",
    "Index: Labels for rows, helping you identify and access data.\n",
    "You can load data from files (CSV, Excel, etc) manipulate it, and save it back."
   ]
  },
  {
   "cell_type": "markdown",
   "id": "4127aa70",
   "metadata": {},
   "source": [
    "### Installing / Importing Pandas"
   ]
  },
  {
   "cell_type": "code",
   "execution_count": 1,
   "id": "fca6f490",
   "metadata": {},
   "outputs": [],
   "source": [
    "import pandas as pd\n"
   ]
  }
 ],
 "metadata": {
  "kernelspec": {
   "display_name": "pythonz",
   "language": "python",
   "name": "python3"
  },
  "language_info": {
   "codemirror_mode": {
    "name": "ipython",
    "version": 3
   },
   "file_extension": ".py",
   "mimetype": "text/x-python",
   "name": "python",
   "nbconvert_exporter": "python",
   "pygments_lexer": "ipython3",
   "version": "3.10.7"
  }
 },
 "nbformat": 4,
 "nbformat_minor": 5
}
