{
 "cells": [
  {
   "cell_type": "markdown",
   "id": "4cc603c0",
   "metadata": {},
   "source": [
    "# Error handling and debugging\n",
    "A python mechanism to manage and respond to errors (eceptions) than occur during program execution, preventing crashes.\n",
    "Purpose: Ensures programs handle unexpected issues (e.g, invalid input, file not found) gracefully, improving reliability and user experience."
   ]
  },
  {
   "cell_type": "markdown",
   "id": "d7e578d8",
   "metadata": {},
   "source": [
    "### Exception (Try/Except)\n",
    "\n",
    "try: Run the code\n",
    "\n",
    "except: if it crashes, ignore error silently or do something else\n",
    "\n",
    "finally: Clean up no matter what happens(if code runs or not i.e useful for cases when except do not catch some errors)"
   ]
  },
  {
   "cell_type": "code",
   "execution_count": 4,
   "id": "386f3830",
   "metadata": {},
   "outputs": [
    {
     "name": "stdout",
     "output_type": "stream",
     "text": [
      "This will always execute, regardless of error\n"
     ]
    }
   ],
   "source": [
    "## Error Handling using Try/Except\n",
    "try:\n",
    "    with open('non_existing_file.txt', 'r') as file:\n",
    "        content = file.read()\n",
    "except:\n",
    "    pass\n",
    "finally:\n",
    "    print('This will always execute, regardless of error')"
   ]
  },
  {
   "cell_type": "markdown",
   "id": "31b55a5b",
   "metadata": {},
   "source": [
    "## Common Errors"
   ]
  },
  {
   "cell_type": "code",
   "execution_count": 7,
   "id": "872008c8",
   "metadata": {},
   "outputs": [
    {
     "name": "stdout",
     "output_type": "stream",
     "text": [
      "Caught a ValueError: Cannot add string and integer\n"
     ]
    }
   ],
   "source": [
    "number = 'ten'\n",
    "try:\n",
    "    value = int(number)\n",
    "except ValueError:\n",
    "    print('Caught a ValueError: Cannot add string and integer')\n"
   ]
  },
  {
   "cell_type": "code",
   "execution_count": 8,
   "id": "c22b34d0",
   "metadata": {},
   "outputs": [
    {
     "name": "stdout",
     "output_type": "stream",
     "text": [
      "Caught a TypeError: Cannot add string to integer. \n"
     ]
    }
   ],
   "source": [
    "# TypeError Handling\n",
    "\n",
    "try:\n",
    "    result = 's' + 5\n",
    "except TypeError:\n",
    "    print('Caught a TypeError: Cannot add string to integer. ')"
   ]
  },
  {
   "cell_type": "code",
   "execution_count": 9,
   "id": "0ccac5a7",
   "metadata": {},
   "outputs": [
    {
     "name": "stdout",
     "output_type": "stream",
     "text": [
      "Caught a file not found error: The file does not exist\n"
     ]
    }
   ],
   "source": [
    "# FileNotFoundError Handling\n",
    "\n",
    "try:\n",
    "    with open('yet_another_non_existent_file.txt', 'r') as file:\n",
    "        content = file.read()\n",
    "except FileNotFoundError:\n",
    "    print('Caught a file not found error: The file does not exist')"
   ]
  },
  {
   "cell_type": "code",
   "execution_count": null,
   "id": "90a21ce8",
   "metadata": {},
   "outputs": [],
   "source": [
    "# keyError Handling\n",
    "\n",
    "my_dict = {'a':}"
   ]
  },
  {
   "cell_type": "markdown",
   "id": "eec2bcfa",
   "metadata": {},
   "source": []
  },
  {
   "cell_type": "markdown",
   "id": "59352b4b",
   "metadata": {},
   "source": [
    "## Debugging Techniques"
   ]
  },
  {
   "cell_type": "code",
   "execution_count": 10,
   "id": "70fd96c5",
   "metadata": {},
   "outputs": [
    {
     "ename": "ZeroDivisionError",
     "evalue": "division by zero",
     "output_type": "error",
     "traceback": [
      "\u001b[1;31m---------------------------------------------------------------------------\u001b[0m",
      "\u001b[1;31mZeroDivisionError\u001b[0m                         Traceback (most recent call last)",
      "Cell \u001b[1;32mIn[10], line 3\u001b[0m\n\u001b[0;32m      1\u001b[0m number \u001b[38;5;241m=\u001b[39m \u001b[38;5;241m10\u001b[39m\n\u001b[0;32m      2\u001b[0m divider \u001b[38;5;241m=\u001b[39m \u001b[38;5;241m0\u001b[39m\n\u001b[1;32m----> 3\u001b[0m solve \u001b[38;5;241m=\u001b[39m \u001b[43mnumber\u001b[49m\u001b[38;5;241;43m/\u001b[39;49m\u001b[43mdivider\u001b[49m\n\u001b[0;32m      4\u001b[0m \u001b[38;5;28mprint\u001b[39m(\u001b[38;5;124m'\u001b[39m\u001b[38;5;124mChecking if this code gets to this point\u001b[39m\u001b[38;5;124m'\u001b[39m)\n",
      "\u001b[1;31mZeroDivisionError\u001b[0m: division by zero"
     ]
    }
   ],
   "source": [
    "number = 10\n",
    "divider = 0\n",
    "solve = number/divider\n",
    "print('Checking if this code gets to this point')"
   ]
  },
  {
   "cell_type": "code",
   "execution_count": 11,
   "id": "27e7b9cb",
   "metadata": {},
   "outputs": [
    {
     "name": "stderr",
     "output_type": "stream",
     "text": [
      "DEBUG:root:This is a debug message. \n"
     ]
    }
   ],
   "source": [
    "# Debugging with the IDE Tools\n",
    "# Debugging with logging\n",
    "\n",
    "import logging\n",
    "logging.basicConfig(level=logging.DEBUG)\n",
    "logging.debug('This is a debug message. ')"
   ]
  },
  {
   "cell_type": "code",
   "execution_count": null,
   "id": "c25724a5",
   "metadata": {},
   "outputs": [],
   "source": []
  }
 ],
 "metadata": {
  "kernelspec": {
   "display_name": "pythonz",
   "language": "python",
   "name": "python3"
  },
  "language_info": {
   "codemirror_mode": {
    "name": "ipython",
    "version": 3
   },
   "file_extension": ".py",
   "mimetype": "text/x-python",
   "name": "python",
   "nbconvert_exporter": "python",
   "pygments_lexer": "ipython3",
   "version": "3.10.7"
  }
 },
 "nbformat": 4,
 "nbformat_minor": 5
}
